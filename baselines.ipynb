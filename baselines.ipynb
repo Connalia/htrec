{
  "nbformat": 4,
  "nbformat_minor": 0,
  "metadata": {
    "colab": {
      "name": "baselines.ipynb",
      "provenance": [],
      "collapsed_sections": []
    },
    "kernelspec": {
      "name": "python3",
      "display_name": "Python 3"
    },
    "language_info": {
      "name": "python"
    },
    "widgets": {
      "application/vnd.jupyter.widget-state+json": {
        "2d280479fb304a6292905828d1382ba2": {
          "model_module": "@jupyter-widgets/controls",
          "model_name": "HBoxModel",
          "model_module_version": "1.5.0",
          "state": {
            "_dom_classes": [],
            "_model_module": "@jupyter-widgets/controls",
            "_model_module_version": "1.5.0",
            "_model_name": "HBoxModel",
            "_view_count": null,
            "_view_module": "@jupyter-widgets/controls",
            "_view_module_version": "1.5.0",
            "_view_name": "HBoxView",
            "box_style": "",
            "children": [
              "IPY_MODEL_d4248602957e492b8d86b4047b421966",
              "IPY_MODEL_5baf1e8942784494b497587b85806a8d",
              "IPY_MODEL_20cc90f6a42340cf9a17900c986f9279"
            ],
            "layout": "IPY_MODEL_ba4f44d68d1443ec93822fb00c0fbac7"
          }
        },
        "d4248602957e492b8d86b4047b421966": {
          "model_module": "@jupyter-widgets/controls",
          "model_name": "HTMLModel",
          "model_module_version": "1.5.0",
          "state": {
            "_dom_classes": [],
            "_model_module": "@jupyter-widgets/controls",
            "_model_module_version": "1.5.0",
            "_model_name": "HTMLModel",
            "_view_count": null,
            "_view_module": "@jupyter-widgets/controls",
            "_view_module_version": "1.5.0",
            "_view_name": "HTMLView",
            "description": "",
            "description_tooltip": null,
            "layout": "IPY_MODEL_1ed1e829fa6d4fb9b144f3fbfb3ed138",
            "placeholder": "​",
            "style": "IPY_MODEL_bd14f6af5bd34116a4c10688dcc52260",
            "value": "official_ranking.csv: 100%"
          }
        },
        "5baf1e8942784494b497587b85806a8d": {
          "model_module": "@jupyter-widgets/controls",
          "model_name": "FloatProgressModel",
          "model_module_version": "1.5.0",
          "state": {
            "_dom_classes": [],
            "_model_module": "@jupyter-widgets/controls",
            "_model_module_version": "1.5.0",
            "_model_name": "FloatProgressModel",
            "_view_count": null,
            "_view_module": "@jupyter-widgets/controls",
            "_view_module_version": "1.5.0",
            "_view_name": "ProgressView",
            "bar_style": "success",
            "description": "",
            "description_tooltip": null,
            "layout": "IPY_MODEL_b28abf8ebb6947598d3e75c0162863d2",
            "max": 19444,
            "min": 0,
            "orientation": "horizontal",
            "style": "IPY_MODEL_98ee80d61f9e469683f40e264c7d18e5",
            "value": 19444
          }
        },
        "20cc90f6a42340cf9a17900c986f9279": {
          "model_module": "@jupyter-widgets/controls",
          "model_name": "HTMLModel",
          "model_module_version": "1.5.0",
          "state": {
            "_dom_classes": [],
            "_model_module": "@jupyter-widgets/controls",
            "_model_module_version": "1.5.0",
            "_model_name": "HTMLModel",
            "_view_count": null,
            "_view_module": "@jupyter-widgets/controls",
            "_view_module_version": "1.5.0",
            "_view_name": "HTMLView",
            "description": "",
            "description_tooltip": null,
            "layout": "IPY_MODEL_079013c1253b4930bb38f0aa91ba2424",
            "placeholder": "​",
            "style": "IPY_MODEL_d9e7ebe077a843e6b3fa27fd0158264c",
            "value": " 19.4k/19.4k [00:00&lt;00:00, 260kB/s]"
          }
        },
        "ba4f44d68d1443ec93822fb00c0fbac7": {
          "model_module": "@jupyter-widgets/base",
          "model_name": "LayoutModel",
          "model_module_version": "1.2.0",
          "state": {
            "_model_module": "@jupyter-widgets/base",
            "_model_module_version": "1.2.0",
            "_model_name": "LayoutModel",
            "_view_count": null,
            "_view_module": "@jupyter-widgets/base",
            "_view_module_version": "1.2.0",
            "_view_name": "LayoutView",
            "align_content": null,
            "align_items": null,
            "align_self": null,
            "border": null,
            "bottom": null,
            "display": null,
            "flex": null,
            "flex_flow": null,
            "grid_area": null,
            "grid_auto_columns": null,
            "grid_auto_flow": null,
            "grid_auto_rows": null,
            "grid_column": null,
            "grid_gap": null,
            "grid_row": null,
            "grid_template_areas": null,
            "grid_template_columns": null,
            "grid_template_rows": null,
            "height": null,
            "justify_content": null,
            "justify_items": null,
            "left": null,
            "margin": null,
            "max_height": null,
            "max_width": null,
            "min_height": null,
            "min_width": null,
            "object_fit": null,
            "object_position": null,
            "order": null,
            "overflow": null,
            "overflow_x": null,
            "overflow_y": null,
            "padding": null,
            "right": null,
            "top": null,
            "visibility": null,
            "width": null
          }
        },
        "1ed1e829fa6d4fb9b144f3fbfb3ed138": {
          "model_module": "@jupyter-widgets/base",
          "model_name": "LayoutModel",
          "model_module_version": "1.2.0",
          "state": {
            "_model_module": "@jupyter-widgets/base",
            "_model_module_version": "1.2.0",
            "_model_name": "LayoutModel",
            "_view_count": null,
            "_view_module": "@jupyter-widgets/base",
            "_view_module_version": "1.2.0",
            "_view_name": "LayoutView",
            "align_content": null,
            "align_items": null,
            "align_self": null,
            "border": null,
            "bottom": null,
            "display": null,
            "flex": null,
            "flex_flow": null,
            "grid_area": null,
            "grid_auto_columns": null,
            "grid_auto_flow": null,
            "grid_auto_rows": null,
            "grid_column": null,
            "grid_gap": null,
            "grid_row": null,
            "grid_template_areas": null,
            "grid_template_columns": null,
            "grid_template_rows": null,
            "height": null,
            "justify_content": null,
            "justify_items": null,
            "left": null,
            "margin": null,
            "max_height": null,
            "max_width": null,
            "min_height": null,
            "min_width": null,
            "object_fit": null,
            "object_position": null,
            "order": null,
            "overflow": null,
            "overflow_x": null,
            "overflow_y": null,
            "padding": null,
            "right": null,
            "top": null,
            "visibility": null,
            "width": null
          }
        },
        "bd14f6af5bd34116a4c10688dcc52260": {
          "model_module": "@jupyter-widgets/controls",
          "model_name": "DescriptionStyleModel",
          "model_module_version": "1.5.0",
          "state": {
            "_model_module": "@jupyter-widgets/controls",
            "_model_module_version": "1.5.0",
            "_model_name": "DescriptionStyleModel",
            "_view_count": null,
            "_view_module": "@jupyter-widgets/base",
            "_view_module_version": "1.2.0",
            "_view_name": "StyleView",
            "description_width": ""
          }
        },
        "b28abf8ebb6947598d3e75c0162863d2": {
          "model_module": "@jupyter-widgets/base",
          "model_name": "LayoutModel",
          "model_module_version": "1.2.0",
          "state": {
            "_model_module": "@jupyter-widgets/base",
            "_model_module_version": "1.2.0",
            "_model_name": "LayoutModel",
            "_view_count": null,
            "_view_module": "@jupyter-widgets/base",
            "_view_module_version": "1.2.0",
            "_view_name": "LayoutView",
            "align_content": null,
            "align_items": null,
            "align_self": null,
            "border": null,
            "bottom": null,
            "display": null,
            "flex": null,
            "flex_flow": null,
            "grid_area": null,
            "grid_auto_columns": null,
            "grid_auto_flow": null,
            "grid_auto_rows": null,
            "grid_column": null,
            "grid_gap": null,
            "grid_row": null,
            "grid_template_areas": null,
            "grid_template_columns": null,
            "grid_template_rows": null,
            "height": null,
            "justify_content": null,
            "justify_items": null,
            "left": null,
            "margin": null,
            "max_height": null,
            "max_width": null,
            "min_height": null,
            "min_width": null,
            "object_fit": null,
            "object_position": null,
            "order": null,
            "overflow": null,
            "overflow_x": null,
            "overflow_y": null,
            "padding": null,
            "right": null,
            "top": null,
            "visibility": null,
            "width": null
          }
        },
        "98ee80d61f9e469683f40e264c7d18e5": {
          "model_module": "@jupyter-widgets/controls",
          "model_name": "ProgressStyleModel",
          "model_module_version": "1.5.0",
          "state": {
            "_model_module": "@jupyter-widgets/controls",
            "_model_module_version": "1.5.0",
            "_model_name": "ProgressStyleModel",
            "_view_count": null,
            "_view_module": "@jupyter-widgets/base",
            "_view_module_version": "1.2.0",
            "_view_name": "StyleView",
            "bar_color": null,
            "description_width": ""
          }
        },
        "079013c1253b4930bb38f0aa91ba2424": {
          "model_module": "@jupyter-widgets/base",
          "model_name": "LayoutModel",
          "model_module_version": "1.2.0",
          "state": {
            "_model_module": "@jupyter-widgets/base",
            "_model_module_version": "1.2.0",
            "_model_name": "LayoutModel",
            "_view_count": null,
            "_view_module": "@jupyter-widgets/base",
            "_view_module_version": "1.2.0",
            "_view_name": "LayoutView",
            "align_content": null,
            "align_items": null,
            "align_self": null,
            "border": null,
            "bottom": null,
            "display": null,
            "flex": null,
            "flex_flow": null,
            "grid_area": null,
            "grid_auto_columns": null,
            "grid_auto_flow": null,
            "grid_auto_rows": null,
            "grid_column": null,
            "grid_gap": null,
            "grid_row": null,
            "grid_template_areas": null,
            "grid_template_columns": null,
            "grid_template_rows": null,
            "height": null,
            "justify_content": null,
            "justify_items": null,
            "left": null,
            "margin": null,
            "max_height": null,
            "max_width": null,
            "min_height": null,
            "min_width": null,
            "object_fit": null,
            "object_position": null,
            "order": null,
            "overflow": null,
            "overflow_x": null,
            "overflow_y": null,
            "padding": null,
            "right": null,
            "top": null,
            "visibility": null,
            "width": null
          }
        },
        "d9e7ebe077a843e6b3fa27fd0158264c": {
          "model_module": "@jupyter-widgets/controls",
          "model_name": "DescriptionStyleModel",
          "model_module_version": "1.5.0",
          "state": {
            "_model_module": "@jupyter-widgets/controls",
            "_model_module_version": "1.5.0",
            "_model_name": "DescriptionStyleModel",
            "_view_count": null,
            "_view_module": "@jupyter-widgets/base",
            "_view_module_version": "1.2.0",
            "_view_name": "StyleView",
            "description_width": ""
          }
        },
        "f00cc31ca1f243bd8f52094af8b81879": {
          "model_module": "@jupyter-widgets/controls",
          "model_name": "HBoxModel",
          "model_module_version": "1.5.0",
          "state": {
            "_dom_classes": [],
            "_model_module": "@jupyter-widgets/controls",
            "_model_module_version": "1.5.0",
            "_model_name": "HBoxModel",
            "_view_count": null,
            "_view_module": "@jupyter-widgets/controls",
            "_view_module_version": "1.5.0",
            "_view_name": "HBoxView",
            "box_style": "",
            "children": [
              "IPY_MODEL_29ee8463b0244ad7a810229aa46b315f",
              "IPY_MODEL_dcca499c8aae472ebef2ecaffab813dd",
              "IPY_MODEL_ae56d0c214484a488a05006b471b32ca"
            ],
            "layout": "IPY_MODEL_948a1320de364da6be5f800bf00d1b45"
          }
        },
        "29ee8463b0244ad7a810229aa46b315f": {
          "model_module": "@jupyter-widgets/controls",
          "model_name": "HTMLModel",
          "model_module_version": "1.5.0",
          "state": {
            "_dom_classes": [],
            "_model_module": "@jupyter-widgets/controls",
            "_model_module_version": "1.5.0",
            "_model_name": "HTMLModel",
            "_view_count": null,
            "_view_module": "@jupyter-widgets/controls",
            "_view_module_version": "1.5.0",
            "_view_name": "HTMLView",
            "description": "",
            "description_tooltip": null,
            "layout": "IPY_MODEL_e60f54d62ae04c818d2d613f69fa4161",
            "placeholder": "​",
            "style": "IPY_MODEL_9e25d531c1204e34b647ff32485998c1",
            "value": "original_test.csv: 100%"
          }
        },
        "dcca499c8aae472ebef2ecaffab813dd": {
          "model_module": "@jupyter-widgets/controls",
          "model_name": "FloatProgressModel",
          "model_module_version": "1.5.0",
          "state": {
            "_dom_classes": [],
            "_model_module": "@jupyter-widgets/controls",
            "_model_module_version": "1.5.0",
            "_model_name": "FloatProgressModel",
            "_view_count": null,
            "_view_module": "@jupyter-widgets/controls",
            "_view_module_version": "1.5.0",
            "_view_name": "ProgressView",
            "bar_style": "success",
            "description": "",
            "description_tooltip": null,
            "layout": "IPY_MODEL_642b4d78c91c46d7bdec9266fc4a56ac",
            "max": 37223,
            "min": 0,
            "orientation": "horizontal",
            "style": "IPY_MODEL_0e7721cf94354cf0990ced45b1502fd6",
            "value": 37223
          }
        },
        "ae56d0c214484a488a05006b471b32ca": {
          "model_module": "@jupyter-widgets/controls",
          "model_name": "HTMLModel",
          "model_module_version": "1.5.0",
          "state": {
            "_dom_classes": [],
            "_model_module": "@jupyter-widgets/controls",
            "_model_module_version": "1.5.0",
            "_model_name": "HTMLModel",
            "_view_count": null,
            "_view_module": "@jupyter-widgets/controls",
            "_view_module_version": "1.5.0",
            "_view_name": "HTMLView",
            "description": "",
            "description_tooltip": null,
            "layout": "IPY_MODEL_2dc169b82cc246c9a8df2379efd482a4",
            "placeholder": "​",
            "style": "IPY_MODEL_492acfdf6ae04fa0a06b316236db1707",
            "value": " 37.2k/37.2k [00:00&lt;00:00, 619kB/s]"
          }
        },
        "948a1320de364da6be5f800bf00d1b45": {
          "model_module": "@jupyter-widgets/base",
          "model_name": "LayoutModel",
          "model_module_version": "1.2.0",
          "state": {
            "_model_module": "@jupyter-widgets/base",
            "_model_module_version": "1.2.0",
            "_model_name": "LayoutModel",
            "_view_count": null,
            "_view_module": "@jupyter-widgets/base",
            "_view_module_version": "1.2.0",
            "_view_name": "LayoutView",
            "align_content": null,
            "align_items": null,
            "align_self": null,
            "border": null,
            "bottom": null,
            "display": null,
            "flex": null,
            "flex_flow": null,
            "grid_area": null,
            "grid_auto_columns": null,
            "grid_auto_flow": null,
            "grid_auto_rows": null,
            "grid_column": null,
            "grid_gap": null,
            "grid_row": null,
            "grid_template_areas": null,
            "grid_template_columns": null,
            "grid_template_rows": null,
            "height": null,
            "justify_content": null,
            "justify_items": null,
            "left": null,
            "margin": null,
            "max_height": null,
            "max_width": null,
            "min_height": null,
            "min_width": null,
            "object_fit": null,
            "object_position": null,
            "order": null,
            "overflow": null,
            "overflow_x": null,
            "overflow_y": null,
            "padding": null,
            "right": null,
            "top": null,
            "visibility": null,
            "width": null
          }
        },
        "e60f54d62ae04c818d2d613f69fa4161": {
          "model_module": "@jupyter-widgets/base",
          "model_name": "LayoutModel",
          "model_module_version": "1.2.0",
          "state": {
            "_model_module": "@jupyter-widgets/base",
            "_model_module_version": "1.2.0",
            "_model_name": "LayoutModel",
            "_view_count": null,
            "_view_module": "@jupyter-widgets/base",
            "_view_module_version": "1.2.0",
            "_view_name": "LayoutView",
            "align_content": null,
            "align_items": null,
            "align_self": null,
            "border": null,
            "bottom": null,
            "display": null,
            "flex": null,
            "flex_flow": null,
            "grid_area": null,
            "grid_auto_columns": null,
            "grid_auto_flow": null,
            "grid_auto_rows": null,
            "grid_column": null,
            "grid_gap": null,
            "grid_row": null,
            "grid_template_areas": null,
            "grid_template_columns": null,
            "grid_template_rows": null,
            "height": null,
            "justify_content": null,
            "justify_items": null,
            "left": null,
            "margin": null,
            "max_height": null,
            "max_width": null,
            "min_height": null,
            "min_width": null,
            "object_fit": null,
            "object_position": null,
            "order": null,
            "overflow": null,
            "overflow_x": null,
            "overflow_y": null,
            "padding": null,
            "right": null,
            "top": null,
            "visibility": null,
            "width": null
          }
        },
        "9e25d531c1204e34b647ff32485998c1": {
          "model_module": "@jupyter-widgets/controls",
          "model_name": "DescriptionStyleModel",
          "model_module_version": "1.5.0",
          "state": {
            "_model_module": "@jupyter-widgets/controls",
            "_model_module_version": "1.5.0",
            "_model_name": "DescriptionStyleModel",
            "_view_count": null,
            "_view_module": "@jupyter-widgets/base",
            "_view_module_version": "1.2.0",
            "_view_name": "StyleView",
            "description_width": ""
          }
        },
        "642b4d78c91c46d7bdec9266fc4a56ac": {
          "model_module": "@jupyter-widgets/base",
          "model_name": "LayoutModel",
          "model_module_version": "1.2.0",
          "state": {
            "_model_module": "@jupyter-widgets/base",
            "_model_module_version": "1.2.0",
            "_model_name": "LayoutModel",
            "_view_count": null,
            "_view_module": "@jupyter-widgets/base",
            "_view_module_version": "1.2.0",
            "_view_name": "LayoutView",
            "align_content": null,
            "align_items": null,
            "align_self": null,
            "border": null,
            "bottom": null,
            "display": null,
            "flex": null,
            "flex_flow": null,
            "grid_area": null,
            "grid_auto_columns": null,
            "grid_auto_flow": null,
            "grid_auto_rows": null,
            "grid_column": null,
            "grid_gap": null,
            "grid_row": null,
            "grid_template_areas": null,
            "grid_template_columns": null,
            "grid_template_rows": null,
            "height": null,
            "justify_content": null,
            "justify_items": null,
            "left": null,
            "margin": null,
            "max_height": null,
            "max_width": null,
            "min_height": null,
            "min_width": null,
            "object_fit": null,
            "object_position": null,
            "order": null,
            "overflow": null,
            "overflow_x": null,
            "overflow_y": null,
            "padding": null,
            "right": null,
            "top": null,
            "visibility": null,
            "width": null
          }
        },
        "0e7721cf94354cf0990ced45b1502fd6": {
          "model_module": "@jupyter-widgets/controls",
          "model_name": "ProgressStyleModel",
          "model_module_version": "1.5.0",
          "state": {
            "_model_module": "@jupyter-widgets/controls",
            "_model_module_version": "1.5.0",
            "_model_name": "ProgressStyleModel",
            "_view_count": null,
            "_view_module": "@jupyter-widgets/base",
            "_view_module_version": "1.2.0",
            "_view_name": "StyleView",
            "bar_color": null,
            "description_width": ""
          }
        },
        "2dc169b82cc246c9a8df2379efd482a4": {
          "model_module": "@jupyter-widgets/base",
          "model_name": "LayoutModel",
          "model_module_version": "1.2.0",
          "state": {
            "_model_module": "@jupyter-widgets/base",
            "_model_module_version": "1.2.0",
            "_model_name": "LayoutModel",
            "_view_count": null,
            "_view_module": "@jupyter-widgets/base",
            "_view_module_version": "1.2.0",
            "_view_name": "LayoutView",
            "align_content": null,
            "align_items": null,
            "align_self": null,
            "border": null,
            "bottom": null,
            "display": null,
            "flex": null,
            "flex_flow": null,
            "grid_area": null,
            "grid_auto_columns": null,
            "grid_auto_flow": null,
            "grid_auto_rows": null,
            "grid_column": null,
            "grid_gap": null,
            "grid_row": null,
            "grid_template_areas": null,
            "grid_template_columns": null,
            "grid_template_rows": null,
            "height": null,
            "justify_content": null,
            "justify_items": null,
            "left": null,
            "margin": null,
            "max_height": null,
            "max_width": null,
            "min_height": null,
            "min_width": null,
            "object_fit": null,
            "object_position": null,
            "order": null,
            "overflow": null,
            "overflow_x": null,
            "overflow_y": null,
            "padding": null,
            "right": null,
            "top": null,
            "visibility": null,
            "width": null
          }
        },
        "492acfdf6ae04fa0a06b316236db1707": {
          "model_module": "@jupyter-widgets/controls",
          "model_name": "DescriptionStyleModel",
          "model_module_version": "1.5.0",
          "state": {
            "_model_module": "@jupyter-widgets/controls",
            "_model_module_version": "1.5.0",
            "_model_name": "DescriptionStyleModel",
            "_view_count": null,
            "_view_module": "@jupyter-widgets/base",
            "_view_module_version": "1.2.0",
            "_view_name": "StyleView",
            "description_width": ""
          }
        },
        "c776b37dfbb94852b788ed2b943133a3": {
          "model_module": "@jupyter-widgets/controls",
          "model_name": "HBoxModel",
          "model_module_version": "1.5.0",
          "state": {
            "_dom_classes": [],
            "_model_module": "@jupyter-widgets/controls",
            "_model_module_version": "1.5.0",
            "_model_name": "HBoxModel",
            "_view_count": null,
            "_view_module": "@jupyter-widgets/controls",
            "_view_module_version": "1.5.0",
            "_view_name": "HBoxView",
            "box_style": "",
            "children": [
              "IPY_MODEL_442521e02983461587f7f57f83b4570f",
              "IPY_MODEL_3204c138583c4791bedfe3990029b8fd",
              "IPY_MODEL_0a6cfc84f548447186c152d3f4670621"
            ],
            "layout": "IPY_MODEL_a23eef69c53749658af5fbf98aabf1e0"
          }
        },
        "442521e02983461587f7f57f83b4570f": {
          "model_module": "@jupyter-widgets/controls",
          "model_name": "HTMLModel",
          "model_module_version": "1.5.0",
          "state": {
            "_dom_classes": [],
            "_model_module": "@jupyter-widgets/controls",
            "_model_module_version": "1.5.0",
            "_model_name": "HTMLModel",
            "_view_count": null,
            "_view_module": "@jupyter-widgets/controls",
            "_view_module_version": "1.5.0",
            "_view_name": "HTMLView",
            "description": "",
            "description_tooltip": null,
            "layout": "IPY_MODEL_8d7c0c03363949a2a3403dcf2914cac8",
            "placeholder": "​",
            "style": "IPY_MODEL_33b7bcdddd284f12a5c1b52f1827e173",
            "value": "synthetic_test.csv: 100%"
          }
        },
        "3204c138583c4791bedfe3990029b8fd": {
          "model_module": "@jupyter-widgets/controls",
          "model_name": "FloatProgressModel",
          "model_module_version": "1.5.0",
          "state": {
            "_dom_classes": [],
            "_model_module": "@jupyter-widgets/controls",
            "_model_module_version": "1.5.0",
            "_model_name": "FloatProgressModel",
            "_view_count": null,
            "_view_module": "@jupyter-widgets/controls",
            "_view_module_version": "1.5.0",
            "_view_name": "ProgressView",
            "bar_style": "success",
            "description": "",
            "description_tooltip": null,
            "layout": "IPY_MODEL_9be462cf8c604d6484c679087ec0ea80",
            "max": 34212,
            "min": 0,
            "orientation": "horizontal",
            "style": "IPY_MODEL_e401d939965b451782a943d95b157151",
            "value": 34212
          }
        },
        "0a6cfc84f548447186c152d3f4670621": {
          "model_module": "@jupyter-widgets/controls",
          "model_name": "HTMLModel",
          "model_module_version": "1.5.0",
          "state": {
            "_dom_classes": [],
            "_model_module": "@jupyter-widgets/controls",
            "_model_module_version": "1.5.0",
            "_model_name": "HTMLModel",
            "_view_count": null,
            "_view_module": "@jupyter-widgets/controls",
            "_view_module_version": "1.5.0",
            "_view_name": "HTMLView",
            "description": "",
            "description_tooltip": null,
            "layout": "IPY_MODEL_4d26dfd42a164085b6d01a0512b42306",
            "placeholder": "​",
            "style": "IPY_MODEL_0319fa9647ea4d12a1911beab273d857",
            "value": " 34.2k/34.2k [00:00&lt;00:00, 322kB/s]"
          }
        },
        "a23eef69c53749658af5fbf98aabf1e0": {
          "model_module": "@jupyter-widgets/base",
          "model_name": "LayoutModel",
          "model_module_version": "1.2.0",
          "state": {
            "_model_module": "@jupyter-widgets/base",
            "_model_module_version": "1.2.0",
            "_model_name": "LayoutModel",
            "_view_count": null,
            "_view_module": "@jupyter-widgets/base",
            "_view_module_version": "1.2.0",
            "_view_name": "LayoutView",
            "align_content": null,
            "align_items": null,
            "align_self": null,
            "border": null,
            "bottom": null,
            "display": null,
            "flex": null,
            "flex_flow": null,
            "grid_area": null,
            "grid_auto_columns": null,
            "grid_auto_flow": null,
            "grid_auto_rows": null,
            "grid_column": null,
            "grid_gap": null,
            "grid_row": null,
            "grid_template_areas": null,
            "grid_template_columns": null,
            "grid_template_rows": null,
            "height": null,
            "justify_content": null,
            "justify_items": null,
            "left": null,
            "margin": null,
            "max_height": null,
            "max_width": null,
            "min_height": null,
            "min_width": null,
            "object_fit": null,
            "object_position": null,
            "order": null,
            "overflow": null,
            "overflow_x": null,
            "overflow_y": null,
            "padding": null,
            "right": null,
            "top": null,
            "visibility": null,
            "width": null
          }
        },
        "8d7c0c03363949a2a3403dcf2914cac8": {
          "model_module": "@jupyter-widgets/base",
          "model_name": "LayoutModel",
          "model_module_version": "1.2.0",
          "state": {
            "_model_module": "@jupyter-widgets/base",
            "_model_module_version": "1.2.0",
            "_model_name": "LayoutModel",
            "_view_count": null,
            "_view_module": "@jupyter-widgets/base",
            "_view_module_version": "1.2.0",
            "_view_name": "LayoutView",
            "align_content": null,
            "align_items": null,
            "align_self": null,
            "border": null,
            "bottom": null,
            "display": null,
            "flex": null,
            "flex_flow": null,
            "grid_area": null,
            "grid_auto_columns": null,
            "grid_auto_flow": null,
            "grid_auto_rows": null,
            "grid_column": null,
            "grid_gap": null,
            "grid_row": null,
            "grid_template_areas": null,
            "grid_template_columns": null,
            "grid_template_rows": null,
            "height": null,
            "justify_content": null,
            "justify_items": null,
            "left": null,
            "margin": null,
            "max_height": null,
            "max_width": null,
            "min_height": null,
            "min_width": null,
            "object_fit": null,
            "object_position": null,
            "order": null,
            "overflow": null,
            "overflow_x": null,
            "overflow_y": null,
            "padding": null,
            "right": null,
            "top": null,
            "visibility": null,
            "width": null
          }
        },
        "33b7bcdddd284f12a5c1b52f1827e173": {
          "model_module": "@jupyter-widgets/controls",
          "model_name": "DescriptionStyleModel",
          "model_module_version": "1.5.0",
          "state": {
            "_model_module": "@jupyter-widgets/controls",
            "_model_module_version": "1.5.0",
            "_model_name": "DescriptionStyleModel",
            "_view_count": null,
            "_view_module": "@jupyter-widgets/base",
            "_view_module_version": "1.2.0",
            "_view_name": "StyleView",
            "description_width": ""
          }
        },
        "9be462cf8c604d6484c679087ec0ea80": {
          "model_module": "@jupyter-widgets/base",
          "model_name": "LayoutModel",
          "model_module_version": "1.2.0",
          "state": {
            "_model_module": "@jupyter-widgets/base",
            "_model_module_version": "1.2.0",
            "_model_name": "LayoutModel",
            "_view_count": null,
            "_view_module": "@jupyter-widgets/base",
            "_view_module_version": "1.2.0",
            "_view_name": "LayoutView",
            "align_content": null,
            "align_items": null,
            "align_self": null,
            "border": null,
            "bottom": null,
            "display": null,
            "flex": null,
            "flex_flow": null,
            "grid_area": null,
            "grid_auto_columns": null,
            "grid_auto_flow": null,
            "grid_auto_rows": null,
            "grid_column": null,
            "grid_gap": null,
            "grid_row": null,
            "grid_template_areas": null,
            "grid_template_columns": null,
            "grid_template_rows": null,
            "height": null,
            "justify_content": null,
            "justify_items": null,
            "left": null,
            "margin": null,
            "max_height": null,
            "max_width": null,
            "min_height": null,
            "min_width": null,
            "object_fit": null,
            "object_position": null,
            "order": null,
            "overflow": null,
            "overflow_x": null,
            "overflow_y": null,
            "padding": null,
            "right": null,
            "top": null,
            "visibility": null,
            "width": null
          }
        },
        "e401d939965b451782a943d95b157151": {
          "model_module": "@jupyter-widgets/controls",
          "model_name": "ProgressStyleModel",
          "model_module_version": "1.5.0",
          "state": {
            "_model_module": "@jupyter-widgets/controls",
            "_model_module_version": "1.5.0",
            "_model_name": "ProgressStyleModel",
            "_view_count": null,
            "_view_module": "@jupyter-widgets/base",
            "_view_module_version": "1.2.0",
            "_view_name": "StyleView",
            "bar_color": null,
            "description_width": ""
          }
        },
        "4d26dfd42a164085b6d01a0512b42306": {
          "model_module": "@jupyter-widgets/base",
          "model_name": "LayoutModel",
          "model_module_version": "1.2.0",
          "state": {
            "_model_module": "@jupyter-widgets/base",
            "_model_module_version": "1.2.0",
            "_model_name": "LayoutModel",
            "_view_count": null,
            "_view_module": "@jupyter-widgets/base",
            "_view_module_version": "1.2.0",
            "_view_name": "LayoutView",
            "align_content": null,
            "align_items": null,
            "align_self": null,
            "border": null,
            "bottom": null,
            "display": null,
            "flex": null,
            "flex_flow": null,
            "grid_area": null,
            "grid_auto_columns": null,
            "grid_auto_flow": null,
            "grid_auto_rows": null,
            "grid_column": null,
            "grid_gap": null,
            "grid_row": null,
            "grid_template_areas": null,
            "grid_template_columns": null,
            "grid_template_rows": null,
            "height": null,
            "justify_content": null,
            "justify_items": null,
            "left": null,
            "margin": null,
            "max_height": null,
            "max_width": null,
            "min_height": null,
            "min_width": null,
            "object_fit": null,
            "object_position": null,
            "order": null,
            "overflow": null,
            "overflow_x": null,
            "overflow_y": null,
            "padding": null,
            "right": null,
            "top": null,
            "visibility": null,
            "width": null
          }
        },
        "0319fa9647ea4d12a1911beab273d857": {
          "model_module": "@jupyter-widgets/controls",
          "model_name": "DescriptionStyleModel",
          "model_module_version": "1.5.0",
          "state": {
            "_model_module": "@jupyter-widgets/controls",
            "_model_module_version": "1.5.0",
            "_model_name": "DescriptionStyleModel",
            "_view_count": null,
            "_view_module": "@jupyter-widgets/base",
            "_view_module_version": "1.2.0",
            "_view_name": "StyleView",
            "description_width": ""
          }
        },
        "9c039e24af284d6e989a42c0a334a3e5": {
          "model_module": "@jupyter-widgets/controls",
          "model_name": "HBoxModel",
          "model_module_version": "1.5.0",
          "state": {
            "_dom_classes": [],
            "_model_module": "@jupyter-widgets/controls",
            "_model_module_version": "1.5.0",
            "_model_name": "HBoxModel",
            "_view_count": null,
            "_view_module": "@jupyter-widgets/controls",
            "_view_module_version": "1.5.0",
            "_view_name": "HBoxView",
            "box_style": "",
            "children": [
              "IPY_MODEL_ba31a322d69a4bd9909960330277baed",
              "IPY_MODEL_e58be780c07d4e49bc9594d74854382f",
              "IPY_MODEL_d913cd2d212b4523af3ea374f2622992"
            ],
            "layout": "IPY_MODEL_40a561ccbd794f4887cb4bfc0a622bc9"
          }
        },
        "ba31a322d69a4bd9909960330277baed": {
          "model_module": "@jupyter-widgets/controls",
          "model_name": "HTMLModel",
          "model_module_version": "1.5.0",
          "state": {
            "_dom_classes": [],
            "_model_module": "@jupyter-widgets/controls",
            "_model_module_version": "1.5.0",
            "_model_name": "HTMLModel",
            "_view_count": null,
            "_view_module": "@jupyter-widgets/controls",
            "_view_module_version": "1.5.0",
            "_view_name": "HTMLView",
            "description": "",
            "description_tooltip": null,
            "layout": "IPY_MODEL_de36d42af0de48abb50dc1473cd15952",
            "placeholder": "​",
            "style": "IPY_MODEL_36f2e876e4894227a63e5c01ce2c44cf",
            "value": "test.csv: 100%"
          }
        },
        "e58be780c07d4e49bc9594d74854382f": {
          "model_module": "@jupyter-widgets/controls",
          "model_name": "FloatProgressModel",
          "model_module_version": "1.5.0",
          "state": {
            "_dom_classes": [],
            "_model_module": "@jupyter-widgets/controls",
            "_model_module_version": "1.5.0",
            "_model_name": "FloatProgressModel",
            "_view_count": null,
            "_view_module": "@jupyter-widgets/controls",
            "_view_module_version": "1.5.0",
            "_view_name": "ProgressView",
            "bar_style": "success",
            "description": "",
            "description_tooltip": null,
            "layout": "IPY_MODEL_2f4946759b1d40fdae16031e5d5b3187",
            "max": 45547,
            "min": 0,
            "orientation": "horizontal",
            "style": "IPY_MODEL_c5c4341dc8fe478eb8ba819dd7409bd9",
            "value": 45547
          }
        },
        "d913cd2d212b4523af3ea374f2622992": {
          "model_module": "@jupyter-widgets/controls",
          "model_name": "HTMLModel",
          "model_module_version": "1.5.0",
          "state": {
            "_dom_classes": [],
            "_model_module": "@jupyter-widgets/controls",
            "_model_module_version": "1.5.0",
            "_model_name": "HTMLModel",
            "_view_count": null,
            "_view_module": "@jupyter-widgets/controls",
            "_view_module_version": "1.5.0",
            "_view_name": "HTMLView",
            "description": "",
            "description_tooltip": null,
            "layout": "IPY_MODEL_08bc2777bfd749c09ac142444729f999",
            "placeholder": "​",
            "style": "IPY_MODEL_61a6b2eabed74284be06816e5a5d388d",
            "value": " 45.5k/45.5k [00:00&lt;00:00, 240kB/s]"
          }
        },
        "40a561ccbd794f4887cb4bfc0a622bc9": {
          "model_module": "@jupyter-widgets/base",
          "model_name": "LayoutModel",
          "model_module_version": "1.2.0",
          "state": {
            "_model_module": "@jupyter-widgets/base",
            "_model_module_version": "1.2.0",
            "_model_name": "LayoutModel",
            "_view_count": null,
            "_view_module": "@jupyter-widgets/base",
            "_view_module_version": "1.2.0",
            "_view_name": "LayoutView",
            "align_content": null,
            "align_items": null,
            "align_self": null,
            "border": null,
            "bottom": null,
            "display": null,
            "flex": null,
            "flex_flow": null,
            "grid_area": null,
            "grid_auto_columns": null,
            "grid_auto_flow": null,
            "grid_auto_rows": null,
            "grid_column": null,
            "grid_gap": null,
            "grid_row": null,
            "grid_template_areas": null,
            "grid_template_columns": null,
            "grid_template_rows": null,
            "height": null,
            "justify_content": null,
            "justify_items": null,
            "left": null,
            "margin": null,
            "max_height": null,
            "max_width": null,
            "min_height": null,
            "min_width": null,
            "object_fit": null,
            "object_position": null,
            "order": null,
            "overflow": null,
            "overflow_x": null,
            "overflow_y": null,
            "padding": null,
            "right": null,
            "top": null,
            "visibility": null,
            "width": null
          }
        },
        "de36d42af0de48abb50dc1473cd15952": {
          "model_module": "@jupyter-widgets/base",
          "model_name": "LayoutModel",
          "model_module_version": "1.2.0",
          "state": {
            "_model_module": "@jupyter-widgets/base",
            "_model_module_version": "1.2.0",
            "_model_name": "LayoutModel",
            "_view_count": null,
            "_view_module": "@jupyter-widgets/base",
            "_view_module_version": "1.2.0",
            "_view_name": "LayoutView",
            "align_content": null,
            "align_items": null,
            "align_self": null,
            "border": null,
            "bottom": null,
            "display": null,
            "flex": null,
            "flex_flow": null,
            "grid_area": null,
            "grid_auto_columns": null,
            "grid_auto_flow": null,
            "grid_auto_rows": null,
            "grid_column": null,
            "grid_gap": null,
            "grid_row": null,
            "grid_template_areas": null,
            "grid_template_columns": null,
            "grid_template_rows": null,
            "height": null,
            "justify_content": null,
            "justify_items": null,
            "left": null,
            "margin": null,
            "max_height": null,
            "max_width": null,
            "min_height": null,
            "min_width": null,
            "object_fit": null,
            "object_position": null,
            "order": null,
            "overflow": null,
            "overflow_x": null,
            "overflow_y": null,
            "padding": null,
            "right": null,
            "top": null,
            "visibility": null,
            "width": null
          }
        },
        "36f2e876e4894227a63e5c01ce2c44cf": {
          "model_module": "@jupyter-widgets/controls",
          "model_name": "DescriptionStyleModel",
          "model_module_version": "1.5.0",
          "state": {
            "_model_module": "@jupyter-widgets/controls",
            "_model_module_version": "1.5.0",
            "_model_name": "DescriptionStyleModel",
            "_view_count": null,
            "_view_module": "@jupyter-widgets/base",
            "_view_module_version": "1.2.0",
            "_view_name": "StyleView",
            "description_width": ""
          }
        },
        "2f4946759b1d40fdae16031e5d5b3187": {
          "model_module": "@jupyter-widgets/base",
          "model_name": "LayoutModel",
          "model_module_version": "1.2.0",
          "state": {
            "_model_module": "@jupyter-widgets/base",
            "_model_module_version": "1.2.0",
            "_model_name": "LayoutModel",
            "_view_count": null,
            "_view_module": "@jupyter-widgets/base",
            "_view_module_version": "1.2.0",
            "_view_name": "LayoutView",
            "align_content": null,
            "align_items": null,
            "align_self": null,
            "border": null,
            "bottom": null,
            "display": null,
            "flex": null,
            "flex_flow": null,
            "grid_area": null,
            "grid_auto_columns": null,
            "grid_auto_flow": null,
            "grid_auto_rows": null,
            "grid_column": null,
            "grid_gap": null,
            "grid_row": null,
            "grid_template_areas": null,
            "grid_template_columns": null,
            "grid_template_rows": null,
            "height": null,
            "justify_content": null,
            "justify_items": null,
            "left": null,
            "margin": null,
            "max_height": null,
            "max_width": null,
            "min_height": null,
            "min_width": null,
            "object_fit": null,
            "object_position": null,
            "order": null,
            "overflow": null,
            "overflow_x": null,
            "overflow_y": null,
            "padding": null,
            "right": null,
            "top": null,
            "visibility": null,
            "width": null
          }
        },
        "c5c4341dc8fe478eb8ba819dd7409bd9": {
          "model_module": "@jupyter-widgets/controls",
          "model_name": "ProgressStyleModel",
          "model_module_version": "1.5.0",
          "state": {
            "_model_module": "@jupyter-widgets/controls",
            "_model_module_version": "1.5.0",
            "_model_name": "ProgressStyleModel",
            "_view_count": null,
            "_view_module": "@jupyter-widgets/base",
            "_view_module_version": "1.2.0",
            "_view_name": "StyleView",
            "bar_color": null,
            "description_width": ""
          }
        },
        "08bc2777bfd749c09ac142444729f999": {
          "model_module": "@jupyter-widgets/base",
          "model_name": "LayoutModel",
          "model_module_version": "1.2.0",
          "state": {
            "_model_module": "@jupyter-widgets/base",
            "_model_module_version": "1.2.0",
            "_model_name": "LayoutModel",
            "_view_count": null,
            "_view_module": "@jupyter-widgets/base",
            "_view_module_version": "1.2.0",
            "_view_name": "LayoutView",
            "align_content": null,
            "align_items": null,
            "align_self": null,
            "border": null,
            "bottom": null,
            "display": null,
            "flex": null,
            "flex_flow": null,
            "grid_area": null,
            "grid_auto_columns": null,
            "grid_auto_flow": null,
            "grid_auto_rows": null,
            "grid_column": null,
            "grid_gap": null,
            "grid_row": null,
            "grid_template_areas": null,
            "grid_template_columns": null,
            "grid_template_rows": null,
            "height": null,
            "justify_content": null,
            "justify_items": null,
            "left": null,
            "margin": null,
            "max_height": null,
            "max_width": null,
            "min_height": null,
            "min_width": null,
            "object_fit": null,
            "object_position": null,
            "order": null,
            "overflow": null,
            "overflow_x": null,
            "overflow_y": null,
            "padding": null,
            "right": null,
            "top": null,
            "visibility": null,
            "width": null
          }
        },
        "61a6b2eabed74284be06816e5a5d388d": {
          "model_module": "@jupyter-widgets/controls",
          "model_name": "DescriptionStyleModel",
          "model_module_version": "1.5.0",
          "state": {
            "_model_module": "@jupyter-widgets/controls",
            "_model_module_version": "1.5.0",
            "_model_name": "DescriptionStyleModel",
            "_view_count": null,
            "_view_module": "@jupyter-widgets/base",
            "_view_module_version": "1.2.0",
            "_view_name": "StyleView",
            "description_width": ""
          }
        },
        "8e978fd65b174f5785ee5d459b9e5f36": {
          "model_module": "@jupyter-widgets/controls",
          "model_name": "HBoxModel",
          "model_module_version": "1.5.0",
          "state": {
            "_dom_classes": [],
            "_model_module": "@jupyter-widgets/controls",
            "_model_module_version": "1.5.0",
            "_model_name": "HBoxModel",
            "_view_count": null,
            "_view_module": "@jupyter-widgets/controls",
            "_view_module_version": "1.5.0",
            "_view_name": "HBoxView",
            "box_style": "",
            "children": [
              "IPY_MODEL_889b89081ebe42edb3565adde9f4dcc4",
              "IPY_MODEL_004745da519a49a69ef210aa24439ac4",
              "IPY_MODEL_ae9000822a4f43f5841d13215d3d4eff"
            ],
            "layout": "IPY_MODEL_21526e7c2dd645c09a090088175ea5f9"
          }
        },
        "889b89081ebe42edb3565adde9f4dcc4": {
          "model_module": "@jupyter-widgets/controls",
          "model_name": "HTMLModel",
          "model_module_version": "1.5.0",
          "state": {
            "_dom_classes": [],
            "_model_module": "@jupyter-widgets/controls",
            "_model_module_version": "1.5.0",
            "_model_name": "HTMLModel",
            "_view_count": null,
            "_view_module": "@jupyter-widgets/controls",
            "_view_module_version": "1.5.0",
            "_view_name": "HTMLView",
            "description": "",
            "description_tooltip": null,
            "layout": "IPY_MODEL_1f0445adb0fc44d2b7a8014fa51109f2",
            "placeholder": "​",
            "style": "IPY_MODEL_af7f4c3c56244230b68d83c2bcd551f1",
            "value": "train.csv: 100%"
          }
        },
        "004745da519a49a69ef210aa24439ac4": {
          "model_module": "@jupyter-widgets/controls",
          "model_name": "FloatProgressModel",
          "model_module_version": "1.5.0",
          "state": {
            "_dom_classes": [],
            "_model_module": "@jupyter-widgets/controls",
            "_model_module_version": "1.5.0",
            "_model_name": "FloatProgressModel",
            "_view_count": null,
            "_view_module": "@jupyter-widgets/controls",
            "_view_module_version": "1.5.0",
            "_view_name": "ProgressView",
            "bar_style": "success",
            "description": "",
            "description_tooltip": null,
            "layout": "IPY_MODEL_961872483a9c4e45905b093f39a16d4a",
            "max": 395041,
            "min": 0,
            "orientation": "horizontal",
            "style": "IPY_MODEL_95b9f0ce82654ecdbc7005aa1e06c1f0",
            "value": 395041
          }
        },
        "ae9000822a4f43f5841d13215d3d4eff": {
          "model_module": "@jupyter-widgets/controls",
          "model_name": "HTMLModel",
          "model_module_version": "1.5.0",
          "state": {
            "_dom_classes": [],
            "_model_module": "@jupyter-widgets/controls",
            "_model_module_version": "1.5.0",
            "_model_name": "HTMLModel",
            "_view_count": null,
            "_view_module": "@jupyter-widgets/controls",
            "_view_module_version": "1.5.0",
            "_view_name": "HTMLView",
            "description": "",
            "description_tooltip": null,
            "layout": "IPY_MODEL_acf2cb49ccf141c485c5406b5cbafc5a",
            "placeholder": "​",
            "style": "IPY_MODEL_56a1138d71b64b819de934c99b89d7d5",
            "value": " 395k/395k [00:00&lt;00:00, 1.46MB/s]"
          }
        },
        "21526e7c2dd645c09a090088175ea5f9": {
          "model_module": "@jupyter-widgets/base",
          "model_name": "LayoutModel",
          "model_module_version": "1.2.0",
          "state": {
            "_model_module": "@jupyter-widgets/base",
            "_model_module_version": "1.2.0",
            "_model_name": "LayoutModel",
            "_view_count": null,
            "_view_module": "@jupyter-widgets/base",
            "_view_module_version": "1.2.0",
            "_view_name": "LayoutView",
            "align_content": null,
            "align_items": null,
            "align_self": null,
            "border": null,
            "bottom": null,
            "display": null,
            "flex": null,
            "flex_flow": null,
            "grid_area": null,
            "grid_auto_columns": null,
            "grid_auto_flow": null,
            "grid_auto_rows": null,
            "grid_column": null,
            "grid_gap": null,
            "grid_row": null,
            "grid_template_areas": null,
            "grid_template_columns": null,
            "grid_template_rows": null,
            "height": null,
            "justify_content": null,
            "justify_items": null,
            "left": null,
            "margin": null,
            "max_height": null,
            "max_width": null,
            "min_height": null,
            "min_width": null,
            "object_fit": null,
            "object_position": null,
            "order": null,
            "overflow": null,
            "overflow_x": null,
            "overflow_y": null,
            "padding": null,
            "right": null,
            "top": null,
            "visibility": null,
            "width": null
          }
        },
        "1f0445adb0fc44d2b7a8014fa51109f2": {
          "model_module": "@jupyter-widgets/base",
          "model_name": "LayoutModel",
          "model_module_version": "1.2.0",
          "state": {
            "_model_module": "@jupyter-widgets/base",
            "_model_module_version": "1.2.0",
            "_model_name": "LayoutModel",
            "_view_count": null,
            "_view_module": "@jupyter-widgets/base",
            "_view_module_version": "1.2.0",
            "_view_name": "LayoutView",
            "align_content": null,
            "align_items": null,
            "align_self": null,
            "border": null,
            "bottom": null,
            "display": null,
            "flex": null,
            "flex_flow": null,
            "grid_area": null,
            "grid_auto_columns": null,
            "grid_auto_flow": null,
            "grid_auto_rows": null,
            "grid_column": null,
            "grid_gap": null,
            "grid_row": null,
            "grid_template_areas": null,
            "grid_template_columns": null,
            "grid_template_rows": null,
            "height": null,
            "justify_content": null,
            "justify_items": null,
            "left": null,
            "margin": null,
            "max_height": null,
            "max_width": null,
            "min_height": null,
            "min_width": null,
            "object_fit": null,
            "object_position": null,
            "order": null,
            "overflow": null,
            "overflow_x": null,
            "overflow_y": null,
            "padding": null,
            "right": null,
            "top": null,
            "visibility": null,
            "width": null
          }
        },
        "af7f4c3c56244230b68d83c2bcd551f1": {
          "model_module": "@jupyter-widgets/controls",
          "model_name": "DescriptionStyleModel",
          "model_module_version": "1.5.0",
          "state": {
            "_model_module": "@jupyter-widgets/controls",
            "_model_module_version": "1.5.0",
            "_model_name": "DescriptionStyleModel",
            "_view_count": null,
            "_view_module": "@jupyter-widgets/base",
            "_view_module_version": "1.2.0",
            "_view_name": "StyleView",
            "description_width": ""
          }
        },
        "961872483a9c4e45905b093f39a16d4a": {
          "model_module": "@jupyter-widgets/base",
          "model_name": "LayoutModel",
          "model_module_version": "1.2.0",
          "state": {
            "_model_module": "@jupyter-widgets/base",
            "_model_module_version": "1.2.0",
            "_model_name": "LayoutModel",
            "_view_count": null,
            "_view_module": "@jupyter-widgets/base",
            "_view_module_version": "1.2.0",
            "_view_name": "LayoutView",
            "align_content": null,
            "align_items": null,
            "align_self": null,
            "border": null,
            "bottom": null,
            "display": null,
            "flex": null,
            "flex_flow": null,
            "grid_area": null,
            "grid_auto_columns": null,
            "grid_auto_flow": null,
            "grid_auto_rows": null,
            "grid_column": null,
            "grid_gap": null,
            "grid_row": null,
            "grid_template_areas": null,
            "grid_template_columns": null,
            "grid_template_rows": null,
            "height": null,
            "justify_content": null,
            "justify_items": null,
            "left": null,
            "margin": null,
            "max_height": null,
            "max_width": null,
            "min_height": null,
            "min_width": null,
            "object_fit": null,
            "object_position": null,
            "order": null,
            "overflow": null,
            "overflow_x": null,
            "overflow_y": null,
            "padding": null,
            "right": null,
            "top": null,
            "visibility": null,
            "width": null
          }
        },
        "95b9f0ce82654ecdbc7005aa1e06c1f0": {
          "model_module": "@jupyter-widgets/controls",
          "model_name": "ProgressStyleModel",
          "model_module_version": "1.5.0",
          "state": {
            "_model_module": "@jupyter-widgets/controls",
            "_model_module_version": "1.5.0",
            "_model_name": "ProgressStyleModel",
            "_view_count": null,
            "_view_module": "@jupyter-widgets/base",
            "_view_module_version": "1.2.0",
            "_view_name": "StyleView",
            "bar_color": null,
            "description_width": ""
          }
        },
        "acf2cb49ccf141c485c5406b5cbafc5a": {
          "model_module": "@jupyter-widgets/base",
          "model_name": "LayoutModel",
          "model_module_version": "1.2.0",
          "state": {
            "_model_module": "@jupyter-widgets/base",
            "_model_module_version": "1.2.0",
            "_model_name": "LayoutModel",
            "_view_count": null,
            "_view_module": "@jupyter-widgets/base",
            "_view_module_version": "1.2.0",
            "_view_name": "LayoutView",
            "align_content": null,
            "align_items": null,
            "align_self": null,
            "border": null,
            "bottom": null,
            "display": null,
            "flex": null,
            "flex_flow": null,
            "grid_area": null,
            "grid_auto_columns": null,
            "grid_auto_flow": null,
            "grid_auto_rows": null,
            "grid_column": null,
            "grid_gap": null,
            "grid_row": null,
            "grid_template_areas": null,
            "grid_template_columns": null,
            "grid_template_rows": null,
            "height": null,
            "justify_content": null,
            "justify_items": null,
            "left": null,
            "margin": null,
            "max_height": null,
            "max_width": null,
            "min_height": null,
            "min_width": null,
            "object_fit": null,
            "object_position": null,
            "order": null,
            "overflow": null,
            "overflow_x": null,
            "overflow_y": null,
            "padding": null,
            "right": null,
            "top": null,
            "visibility": null,
            "width": null
          }
        },
        "56a1138d71b64b819de934c99b89d7d5": {
          "model_module": "@jupyter-widgets/controls",
          "model_name": "DescriptionStyleModel",
          "model_module_version": "1.5.0",
          "state": {
            "_model_module": "@jupyter-widgets/controls",
            "_model_module_version": "1.5.0",
            "_model_name": "DescriptionStyleModel",
            "_view_count": null,
            "_view_module": "@jupyter-widgets/base",
            "_view_module_version": "1.2.0",
            "_view_name": "StyleView",
            "description_width": ""
          }
        }
      }
    },
    "gpuClass": "standard"
  },
  "cells": [
    {
      "cell_type": "markdown",
      "source": [
        "### Sign in\n",
        "* To get the data."
      ],
      "metadata": {
        "id": "nVgmJo-Y133P"
      }
    },
    {
      "cell_type": "code",
      "execution_count": 1,
      "metadata": {
        "id": "9pIAWiB1yZv0"
      },
      "outputs": [],
      "source": [
        "%%capture\n",
        "!pip install aicrowd-cli\n",
        "%load_ext aicrowd.magic"
      ]
    },
    {
      "cell_type": "code",
      "source": [
        "%aicrowd login"
      ],
      "metadata": {
        "colab": {
          "base_uri": "https://localhost:8080/"
        },
        "id": "dYafSj95yjEK",
        "outputId": "c3a7f0c4-3b0d-443a-f591-0b9d17b5779a"
      },
      "execution_count": 2,
      "outputs": [
        {
          "output_type": "stream",
          "name": "stdout",
          "text": [
            "Please login here: \u001b[34m\u001b[1m\u001b[4mhttps://api.aicrowd.com/auth/aiLSyjqicj0bNleEXXbT2o6UV9bRTEHccR3uG6Gx3ZE\u001b[0m\n",
            "\u001b[32mAPI Key valid\u001b[0m\n",
            "\u001b[32mGitlab access token valid\u001b[0m\n",
            "\u001b[32mSaved details successfully!\u001b[0m\n"
          ]
        }
      ]
    },
    {
      "cell_type": "code",
      "source": [
        "!rm -rf data\n",
        "!mkdir data\n",
        "%aicrowd ds dl -c htrec-2022 -o data"
      ],
      "metadata": {
        "id": "N4ypVNCGykeI",
        "colab": {
          "base_uri": "https://localhost:8080/",
          "height": 177,
          "referenced_widgets": [
            "2d280479fb304a6292905828d1382ba2",
            "d4248602957e492b8d86b4047b421966",
            "5baf1e8942784494b497587b85806a8d",
            "20cc90f6a42340cf9a17900c986f9279",
            "ba4f44d68d1443ec93822fb00c0fbac7",
            "1ed1e829fa6d4fb9b144f3fbfb3ed138",
            "bd14f6af5bd34116a4c10688dcc52260",
            "b28abf8ebb6947598d3e75c0162863d2",
            "98ee80d61f9e469683f40e264c7d18e5",
            "079013c1253b4930bb38f0aa91ba2424",
            "d9e7ebe077a843e6b3fa27fd0158264c",
            "f00cc31ca1f243bd8f52094af8b81879",
            "29ee8463b0244ad7a810229aa46b315f",
            "dcca499c8aae472ebef2ecaffab813dd",
            "ae56d0c214484a488a05006b471b32ca",
            "948a1320de364da6be5f800bf00d1b45",
            "e60f54d62ae04c818d2d613f69fa4161",
            "9e25d531c1204e34b647ff32485998c1",
            "642b4d78c91c46d7bdec9266fc4a56ac",
            "0e7721cf94354cf0990ced45b1502fd6",
            "2dc169b82cc246c9a8df2379efd482a4",
            "492acfdf6ae04fa0a06b316236db1707",
            "c776b37dfbb94852b788ed2b943133a3",
            "442521e02983461587f7f57f83b4570f",
            "3204c138583c4791bedfe3990029b8fd",
            "0a6cfc84f548447186c152d3f4670621",
            "a23eef69c53749658af5fbf98aabf1e0",
            "8d7c0c03363949a2a3403dcf2914cac8",
            "33b7bcdddd284f12a5c1b52f1827e173",
            "9be462cf8c604d6484c679087ec0ea80",
            "e401d939965b451782a943d95b157151",
            "4d26dfd42a164085b6d01a0512b42306",
            "0319fa9647ea4d12a1911beab273d857",
            "9c039e24af284d6e989a42c0a334a3e5",
            "ba31a322d69a4bd9909960330277baed",
            "e58be780c07d4e49bc9594d74854382f",
            "d913cd2d212b4523af3ea374f2622992",
            "40a561ccbd794f4887cb4bfc0a622bc9",
            "de36d42af0de48abb50dc1473cd15952",
            "36f2e876e4894227a63e5c01ce2c44cf",
            "2f4946759b1d40fdae16031e5d5b3187",
            "c5c4341dc8fe478eb8ba819dd7409bd9",
            "08bc2777bfd749c09ac142444729f999",
            "61a6b2eabed74284be06816e5a5d388d",
            "8e978fd65b174f5785ee5d459b9e5f36",
            "889b89081ebe42edb3565adde9f4dcc4",
            "004745da519a49a69ef210aa24439ac4",
            "ae9000822a4f43f5841d13215d3d4eff",
            "21526e7c2dd645c09a090088175ea5f9",
            "1f0445adb0fc44d2b7a8014fa51109f2",
            "af7f4c3c56244230b68d83c2bcd551f1",
            "961872483a9c4e45905b093f39a16d4a",
            "95b9f0ce82654ecdbc7005aa1e06c1f0",
            "acf2cb49ccf141c485c5406b5cbafc5a",
            "56a1138d71b64b819de934c99b89d7d5"
          ]
        },
        "outputId": "e186b147-e706-42d8-f3ac-ee8826affb7b"
      },
      "execution_count": 3,
      "outputs": [
        {
          "output_type": "display_data",
          "data": {
            "text/plain": [
              "official_ranking.csv:   0%|          | 0.00/19.4k [00:00<?, ?B/s]"
            ],
            "application/vnd.jupyter.widget-view+json": {
              "version_major": 2,
              "version_minor": 0,
              "model_id": "2d280479fb304a6292905828d1382ba2"
            }
          },
          "metadata": {}
        },
        {
          "output_type": "display_data",
          "data": {
            "text/plain": [
              "original_test.csv:   0%|          | 0.00/37.2k [00:00<?, ?B/s]"
            ],
            "application/vnd.jupyter.widget-view+json": {
              "version_major": 2,
              "version_minor": 0,
              "model_id": "f00cc31ca1f243bd8f52094af8b81879"
            }
          },
          "metadata": {}
        },
        {
          "output_type": "display_data",
          "data": {
            "text/plain": [
              "synthetic_test.csv:   0%|          | 0.00/34.2k [00:00<?, ?B/s]"
            ],
            "application/vnd.jupyter.widget-view+json": {
              "version_major": 2,
              "version_minor": 0,
              "model_id": "c776b37dfbb94852b788ed2b943133a3"
            }
          },
          "metadata": {}
        },
        {
          "output_type": "display_data",
          "data": {
            "text/plain": [
              "test.csv:   0%|          | 0.00/45.5k [00:00<?, ?B/s]"
            ],
            "application/vnd.jupyter.widget-view+json": {
              "version_major": 2,
              "version_minor": 0,
              "model_id": "9c039e24af284d6e989a42c0a334a3e5"
            }
          },
          "metadata": {}
        },
        {
          "output_type": "display_data",
          "data": {
            "text/plain": [
              "train.csv:   0%|          | 0.00/395k [00:00<?, ?B/s]"
            ],
            "application/vnd.jupyter.widget-view+json": {
              "version_major": 2,
              "version_minor": 0,
              "model_id": "8e978fd65b174f5785ee5d459b9e5f36"
            }
          },
          "metadata": {}
        }
      ]
    },
    {
      "cell_type": "code",
      "source": [
        "%%capture\n",
        "!pip install pywer\n",
        "import pywer\n",
        "import pandas as pd\n",
        "import numpy as np\n",
        "import os"
      ],
      "metadata": {
        "id": "xam0TODzylDO"
      },
      "execution_count": 4,
      "outputs": []
    },
    {
      "cell_type": "code",
      "source": [
        "# Visualisation\n",
        "import matplotlib.pyplot as plt\n",
        "import seaborn as sns"
      ],
      "metadata": {
        "id": "f2RJAqufR--h"
      },
      "execution_count": 5,
      "outputs": []
    },
    {
      "cell_type": "code",
      "source": [
        "train_df = pd.read_csv(\"data/train.csv\")\n",
        "test_df = pd.read_csv(\"data/test.csv\")\n",
        "print(f\"{train_df.shape[0]} train and {test_df.shape[0]} instances\"); train_df.sample()"
      ],
      "metadata": {
        "id": "Q9pK5WLJytWD",
        "colab": {
          "base_uri": "https://localhost:8080/",
          "height": 99
        },
        "outputId": "eb4b713c-6fe4-4c4b-d875-f597e1b37502"
      },
      "execution_count": 6,
      "outputs": [
        {
          "output_type": "stream",
          "name": "stdout",
          "text": [
            "1875 train and 338 instances\n"
          ]
        },
        {
          "output_type": "execute_result",
          "data": {
            "text/plain": [
              "          HUMAN_TRANSCRIPTION   SYSTEM_TRANSCRIPTION  CENTURY  \\\n",
              "827  κτισεως αρσεν και θηλυ ε  κτισως ἀἈρσεν και λως       13   \n",
              "\n",
              "                                            IMAGE_PATH  TEXT_LINE_NUM  \n",
              "827  59 Bodleian-Library-MS-Barocci-31_00319_fol-15...             16  "
            ],
            "text/html": [
              "\n",
              "  <div id=\"df-2abefdcc-814c-4dab-b416-a435a1dfc239\">\n",
              "    <div class=\"colab-df-container\">\n",
              "      <div>\n",
              "<style scoped>\n",
              "    .dataframe tbody tr th:only-of-type {\n",
              "        vertical-align: middle;\n",
              "    }\n",
              "\n",
              "    .dataframe tbody tr th {\n",
              "        vertical-align: top;\n",
              "    }\n",
              "\n",
              "    .dataframe thead th {\n",
              "        text-align: right;\n",
              "    }\n",
              "</style>\n",
              "<table border=\"1\" class=\"dataframe\">\n",
              "  <thead>\n",
              "    <tr style=\"text-align: right;\">\n",
              "      <th></th>\n",
              "      <th>HUMAN_TRANSCRIPTION</th>\n",
              "      <th>SYSTEM_TRANSCRIPTION</th>\n",
              "      <th>CENTURY</th>\n",
              "      <th>IMAGE_PATH</th>\n",
              "      <th>TEXT_LINE_NUM</th>\n",
              "    </tr>\n",
              "  </thead>\n",
              "  <tbody>\n",
              "    <tr>\n",
              "      <th>827</th>\n",
              "      <td>κτισεως αρσεν και θηλυ ε</td>\n",
              "      <td>κτισως ἀἈρσεν και λως</td>\n",
              "      <td>13</td>\n",
              "      <td>59 Bodleian-Library-MS-Barocci-31_00319_fol-15...</td>\n",
              "      <td>16</td>\n",
              "    </tr>\n",
              "  </tbody>\n",
              "</table>\n",
              "</div>\n",
              "      <button class=\"colab-df-convert\" onclick=\"convertToInteractive('df-2abefdcc-814c-4dab-b416-a435a1dfc239')\"\n",
              "              title=\"Convert this dataframe to an interactive table.\"\n",
              "              style=\"display:none;\">\n",
              "        \n",
              "  <svg xmlns=\"http://www.w3.org/2000/svg\" height=\"24px\"viewBox=\"0 0 24 24\"\n",
              "       width=\"24px\">\n",
              "    <path d=\"M0 0h24v24H0V0z\" fill=\"none\"/>\n",
              "    <path d=\"M18.56 5.44l.94 2.06.94-2.06 2.06-.94-2.06-.94-.94-2.06-.94 2.06-2.06.94zm-11 1L8.5 8.5l.94-2.06 2.06-.94-2.06-.94L8.5 2.5l-.94 2.06-2.06.94zm10 10l.94 2.06.94-2.06 2.06-.94-2.06-.94-.94-2.06-.94 2.06-2.06.94z\"/><path d=\"M17.41 7.96l-1.37-1.37c-.4-.4-.92-.59-1.43-.59-.52 0-1.04.2-1.43.59L10.3 9.45l-7.72 7.72c-.78.78-.78 2.05 0 2.83L4 21.41c.39.39.9.59 1.41.59.51 0 1.02-.2 1.41-.59l7.78-7.78 2.81-2.81c.8-.78.8-2.07 0-2.86zM5.41 20L4 18.59l7.72-7.72 1.47 1.35L5.41 20z\"/>\n",
              "  </svg>\n",
              "      </button>\n",
              "      \n",
              "  <style>\n",
              "    .colab-df-container {\n",
              "      display:flex;\n",
              "      flex-wrap:wrap;\n",
              "      gap: 12px;\n",
              "    }\n",
              "\n",
              "    .colab-df-convert {\n",
              "      background-color: #E8F0FE;\n",
              "      border: none;\n",
              "      border-radius: 50%;\n",
              "      cursor: pointer;\n",
              "      display: none;\n",
              "      fill: #1967D2;\n",
              "      height: 32px;\n",
              "      padding: 0 0 0 0;\n",
              "      width: 32px;\n",
              "    }\n",
              "\n",
              "    .colab-df-convert:hover {\n",
              "      background-color: #E2EBFA;\n",
              "      box-shadow: 0px 1px 2px rgba(60, 64, 67, 0.3), 0px 1px 3px 1px rgba(60, 64, 67, 0.15);\n",
              "      fill: #174EA6;\n",
              "    }\n",
              "\n",
              "    [theme=dark] .colab-df-convert {\n",
              "      background-color: #3B4455;\n",
              "      fill: #D2E3FC;\n",
              "    }\n",
              "\n",
              "    [theme=dark] .colab-df-convert:hover {\n",
              "      background-color: #434B5C;\n",
              "      box-shadow: 0px 1px 3px 1px rgba(0, 0, 0, 0.15);\n",
              "      filter: drop-shadow(0px 1px 2px rgba(0, 0, 0, 0.3));\n",
              "      fill: #FFFFFF;\n",
              "    }\n",
              "  </style>\n",
              "\n",
              "      <script>\n",
              "        const buttonEl =\n",
              "          document.querySelector('#df-2abefdcc-814c-4dab-b416-a435a1dfc239 button.colab-df-convert');\n",
              "        buttonEl.style.display =\n",
              "          google.colab.kernel.accessAllowed ? 'block' : 'none';\n",
              "\n",
              "        async function convertToInteractive(key) {\n",
              "          const element = document.querySelector('#df-2abefdcc-814c-4dab-b416-a435a1dfc239');\n",
              "          const dataTable =\n",
              "            await google.colab.kernel.invokeFunction('convertToInteractive',\n",
              "                                                     [key], {});\n",
              "          if (!dataTable) return;\n",
              "\n",
              "          const docLinkHtml = 'Like what you see? Visit the ' +\n",
              "            '<a target=\"_blank\" href=https://colab.research.google.com/notebooks/data_table.ipynb>data table notebook</a>'\n",
              "            + ' to learn more about interactive tables.';\n",
              "          element.innerHTML = '';\n",
              "          dataTable['output_type'] = 'display_data';\n",
              "          await google.colab.output.renderOutput(dataTable, element);\n",
              "          const docLink = document.createElement('div');\n",
              "          docLink.innerHTML = docLinkHtml;\n",
              "          element.appendChild(docLink);\n",
              "        }\n",
              "      </script>\n",
              "    </div>\n",
              "  </div>\n",
              "  "
            ]
          },
          "metadata": {},
          "execution_count": 6
        }
      ]
    },
    {
      "cell_type": "markdown",
      "source": [
        "# Preprosessing"
      ],
      "metadata": {
        "id": "yinISibs642m"
      }
    },
    {
      "cell_type": "code",
      "source": [
        "ht_raw = \" \".join(train_df.HUMAN_TRANSCRIPTION.to_list())\n",
        "st_raw = \" \".join(train_df.SYSTEM_TRANSCRIPTION.to_list())\n",
        "print(f\"{len(set(ht_raw.lower()))} characters in human transcription\")\n",
        "print(f\"{len(set(st_raw.lower()))} characters in system transcription\")\n",
        "print(f\"The following characters have not been system-transcribed: \\n{set(ht_raw.lower())-set(st_raw.lower())}\")\n",
        "print(f\"The following *have been* system-transcribed: \\n{set(ht_raw.lower()).intersection(set(st_raw.lower()))}\")"
      ],
      "metadata": {
        "colab": {
          "base_uri": "https://localhost:8080/"
        },
        "id": "WKg0GoRy6zbi",
        "outputId": "f05da6ca-e5c0-4272-f9c3-67a0477e7357"
      },
      "execution_count": 7,
      "outputs": [
        {
          "output_type": "stream",
          "name": "stdout",
          "text": [
            "131 characters in human transcription\n",
            "77 characters in system transcription\n",
            "The following characters have not been system-transcribed: \n",
            "{'ϊ', 'ῤ', 'ΐ', 'ῇ', 'ἥ', 'ώ', 'ᾦ', 'ῄ', 'ὧ', 'ὦ', '΄', 'ὓ', 'ἧ', 'ύ', 'ἃ', 'ἇ', ';', 'ὤ', 'ᾑ', 'ἷ', \"'\", 'ἄ', 'ᾴ', 'ὖ', ';', 'ἦ', 'ὠ', 'ὃ', 'ᾄ', 'ὣ', 'ᾅ', 'ί', 'ή', 'ά', 'ὀ', 'ᾠ', 'ἅ', 'ᾧ', 'ᾗ', 'ὔ', 'ὄ', 'ὗ', 'ἂ', 'ἳ', 'ᾤ', 'έ', 'ᾔ', 'ὕ', 'ῒ', 'ᾷ', 'ᾶ', '᾿', 'ἣ', 'ῥ'}\n",
            "The following *have been* system-transcribed: \n",
            "{'ὲ', 'α', 'ν', 'ὢ', 'φ', 'ῴ', 'ῷ', 'θ', 'ὑ', 'ι', 'ε', 'ῆ', 'ὺ', 'ῖ', 'ἀ', '·', 'ξ', 'η', 'ό', 'ύ', 'ἁ', 'ὶ', 'υ', 'λ', 'ρ', 'ἡ', 'ἐ', 'ᾳ', 'ο', 'ς', 'ῳ', 'ἤ', 'ὡ', 'ω', 'ἑ', 'ψ', 'ὴ', 'ῦ', 'ώ', 'γ', 'ἱ', 'ἕ', 'ζ', 'ῶ', 'δ', 'σ', 'έ', 'ὅ', 'ἵ', 'ἢ', 'ά', 'π', 'ῃ', 'ἶ', 'ό', 'ὐ', 'ί', 'ἠ', 'ὸ', 'ή', 'κ', 'ἰ', 'ἴ', 'ἔ', 'μ', ',', ' ', '.', '·', 'ὁ', 'τ', '᾽', 'β', 'ὰ', 'ὼ', 'χ', 'ὥ'}\n"
          ]
        }
      ]
    },
    {
      "cell_type": "code",
      "source": [
        "tokens = ht_raw.split()\n",
        "WORDS = set(tokens) # set include unique values"
      ],
      "metadata": {
        "id": "bXyU-VLZ60Mn"
      },
      "execution_count": 8,
      "outputs": []
    },
    {
      "cell_type": "code",
      "source": [
        "print(f\"Number of strings: {len(tokens)}\")\n",
        "print(f\"Number of unique strings: {len(set(tokens))}\")"
      ],
      "metadata": {
        "colab": {
          "base_uri": "https://localhost:8080/"
        },
        "id": "TvT9GmI_63cP",
        "outputId": "a932d7c3-334f-4321-9ecc-f64e2a087191"
      },
      "execution_count": 9,
      "outputs": [
        {
          "output_type": "stream",
          "name": "stdout",
          "text": [
            "Number of strings: 12797\n",
            "Number of unique strings: 6210\n"
          ]
        }
      ]
    },
    {
      "cell_type": "markdown",
      "source": [
        "# Models"
      ],
      "metadata": {
        "id": "zc3qV2-3aDJm"
      }
    },
    {
      "cell_type": "markdown",
      "source": [
        "### B1: Edit-distance-based baseline"
      ],
      "metadata": {
        "id": "xOakzd9AaIk_"
      }
    },
    {
      "cell_type": "code",
      "source": [
        "def eddi(input_text, reference_words=WORDS, ed_threshold=25, max_unk_tokens=3):\n",
        "  \"\"\" Baseline I: Edit distance -based Baseline\n",
        "  An edit distance-based baseline: Given a list of valid (reference) words,\n",
        "  this baseline (called eddi) detects words not in the reference list and \n",
        "  changes them to the closest one in the reference list.\n",
        "  :param input_text: the source text\n",
        "  :param reference_words: a list of valid words (e.g., computed from the target data) \n",
        "  :param ed_threshold: the edit distance threshold below from which a word is replaced\n",
        "  :param max_unk_tokens: the max number of unknown tokens in the transcribed text \n",
        "  :return: the new text\n",
        "  \"\"\"\n",
        "  tokens = input_text.split()\n",
        "  # Unknown transcribed tokens; proceed only if few\n",
        "  unknowns = [i for i, w in enumerate(tokens) if w not in reference_words]\n",
        "  if len(unknowns) > max_unk_tokens:\n",
        "    return \" \".join(tokens)\n",
        "\n",
        "  for ind in unknowns:\n",
        "    # Replace each uknown token with the ground truth token w/min edit distance \n",
        "    word = tokens[ind]\n",
        "    min_cer, new_word = 100, word\n",
        "    for ref in reference_words:\n",
        "      candidate_min_cer = pywer.cer([ref], [word])\n",
        "      if candidate_min_cer < min_cer:\n",
        "        min_cer = candidate_min_cer\n",
        "        if min_cer < ed_threshold:\n",
        "          new_word = ref\n",
        "    tokens[ind] = new_word\n",
        "  return \" \".join(tokens)"
      ],
      "metadata": {
        "id": "rax7aZqHaH4G"
      },
      "execution_count": 10,
      "outputs": []
    },
    {
      "cell_type": "code",
      "source": [
        "# Predict for training set\n",
        "train_df[\"B1\"] = train_df.SYSTEM_TRANSCRIPTION.apply(eddi)"
      ],
      "metadata": {
        "id": "isEIOu2gZ8ER"
      },
      "execution_count": 11,
      "outputs": []
    },
    {
      "cell_type": "code",
      "source": [
        "# Calculate CER for baseline predictions\n",
        "train_df[\"B1_CER\"] = train_df.apply(lambda row: pywer.cer([row.HUMAN_TRANSCRIPTION], [row.B1]), axis=1)\n",
        "print(f\"B1 CER: {train_df.B1_CER.mean()}\")\n",
        "\n",
        "# Computing the character error *reduction* rate (CERR)\n",
        "train_df[\"CER\"] = train_df.apply(lambda row: pywer.cer([row.HUMAN_TRANSCRIPTION], [row.SYSTEM_TRANSCRIPTION]), axis=1)\n",
        "print(f\"B1 CERR: {(train_df.CER - train_df.B1_CER).mean()}\")"
      ],
      "metadata": {
        "id": "W-SOK5y0cTNA",
        "colab": {
          "base_uri": "https://localhost:8080/"
        },
        "outputId": "4ba26305-b6b8-4106-ff3d-77e6c81a2f17"
      },
      "execution_count": 12,
      "outputs": [
        {
          "output_type": "stream",
          "name": "stdout",
          "text": [
            "B1 CER: 33.932947307411425\n",
            "B1 CERR: 0.3221276698811715\n"
          ]
        }
      ]
    },
    {
      "cell_type": "code",
      "source": [
        "# Use B1 to predict for the test\n",
        "test_df[\"B1\"] = test_df.SYSTEM_TRANSCRIPTION.apply(eddi)\n",
        "test_df.sample()"
      ],
      "metadata": {
        "id": "pk2KN0xgcqkh",
        "colab": {
          "base_uri": "https://localhost:8080/",
          "height": 81
        },
        "outputId": "b19964dd-2a16-4801-b5a1-5bb61aad63c0"
      },
      "execution_count": 14,
      "outputs": [
        {
          "output_type": "execute_result",
          "data": {
            "text/plain": [
              "               SYSTEM_TRANSCRIPTION  CENTURY  \\\n",
              "33  ώδὲ προς δοκήήσαι σκκἀνοητ ἐκεν       14   \n",
              "\n",
              "                                           IMAGE_PATH  TEXT_LINE_NUM  \\\n",
              "33  101 Bodleian-Library-MS-Barocci-127_00166_fol-...             15   \n",
              "\n",
              "                                 B1  \n",
              "33  ώδὲ προς δοκήήσαι σκκἀνοητ ἐκεν  "
            ],
            "text/html": [
              "\n",
              "  <div id=\"df-362d7c47-0ae6-40b8-92a9-5a4d673758fc\">\n",
              "    <div class=\"colab-df-container\">\n",
              "      <div>\n",
              "<style scoped>\n",
              "    .dataframe tbody tr th:only-of-type {\n",
              "        vertical-align: middle;\n",
              "    }\n",
              "\n",
              "    .dataframe tbody tr th {\n",
              "        vertical-align: top;\n",
              "    }\n",
              "\n",
              "    .dataframe thead th {\n",
              "        text-align: right;\n",
              "    }\n",
              "</style>\n",
              "<table border=\"1\" class=\"dataframe\">\n",
              "  <thead>\n",
              "    <tr style=\"text-align: right;\">\n",
              "      <th></th>\n",
              "      <th>SYSTEM_TRANSCRIPTION</th>\n",
              "      <th>CENTURY</th>\n",
              "      <th>IMAGE_PATH</th>\n",
              "      <th>TEXT_LINE_NUM</th>\n",
              "      <th>B1</th>\n",
              "    </tr>\n",
              "  </thead>\n",
              "  <tbody>\n",
              "    <tr>\n",
              "      <th>33</th>\n",
              "      <td>ώδὲ προς δοκήήσαι σκκἀνοητ ἐκεν</td>\n",
              "      <td>14</td>\n",
              "      <td>101 Bodleian-Library-MS-Barocci-127_00166_fol-...</td>\n",
              "      <td>15</td>\n",
              "      <td>ώδὲ προς δοκήήσαι σκκἀνοητ ἐκεν</td>\n",
              "    </tr>\n",
              "  </tbody>\n",
              "</table>\n",
              "</div>\n",
              "      <button class=\"colab-df-convert\" onclick=\"convertToInteractive('df-362d7c47-0ae6-40b8-92a9-5a4d673758fc')\"\n",
              "              title=\"Convert this dataframe to an interactive table.\"\n",
              "              style=\"display:none;\">\n",
              "        \n",
              "  <svg xmlns=\"http://www.w3.org/2000/svg\" height=\"24px\"viewBox=\"0 0 24 24\"\n",
              "       width=\"24px\">\n",
              "    <path d=\"M0 0h24v24H0V0z\" fill=\"none\"/>\n",
              "    <path d=\"M18.56 5.44l.94 2.06.94-2.06 2.06-.94-2.06-.94-.94-2.06-.94 2.06-2.06.94zm-11 1L8.5 8.5l.94-2.06 2.06-.94-2.06-.94L8.5 2.5l-.94 2.06-2.06.94zm10 10l.94 2.06.94-2.06 2.06-.94-2.06-.94-.94-2.06-.94 2.06-2.06.94z\"/><path d=\"M17.41 7.96l-1.37-1.37c-.4-.4-.92-.59-1.43-.59-.52 0-1.04.2-1.43.59L10.3 9.45l-7.72 7.72c-.78.78-.78 2.05 0 2.83L4 21.41c.39.39.9.59 1.41.59.51 0 1.02-.2 1.41-.59l7.78-7.78 2.81-2.81c.8-.78.8-2.07 0-2.86zM5.41 20L4 18.59l7.72-7.72 1.47 1.35L5.41 20z\"/>\n",
              "  </svg>\n",
              "      </button>\n",
              "      \n",
              "  <style>\n",
              "    .colab-df-container {\n",
              "      display:flex;\n",
              "      flex-wrap:wrap;\n",
              "      gap: 12px;\n",
              "    }\n",
              "\n",
              "    .colab-df-convert {\n",
              "      background-color: #E8F0FE;\n",
              "      border: none;\n",
              "      border-radius: 50%;\n",
              "      cursor: pointer;\n",
              "      display: none;\n",
              "      fill: #1967D2;\n",
              "      height: 32px;\n",
              "      padding: 0 0 0 0;\n",
              "      width: 32px;\n",
              "    }\n",
              "\n",
              "    .colab-df-convert:hover {\n",
              "      background-color: #E2EBFA;\n",
              "      box-shadow: 0px 1px 2px rgba(60, 64, 67, 0.3), 0px 1px 3px 1px rgba(60, 64, 67, 0.15);\n",
              "      fill: #174EA6;\n",
              "    }\n",
              "\n",
              "    [theme=dark] .colab-df-convert {\n",
              "      background-color: #3B4455;\n",
              "      fill: #D2E3FC;\n",
              "    }\n",
              "\n",
              "    [theme=dark] .colab-df-convert:hover {\n",
              "      background-color: #434B5C;\n",
              "      box-shadow: 0px 1px 3px 1px rgba(0, 0, 0, 0.15);\n",
              "      filter: drop-shadow(0px 1px 2px rgba(0, 0, 0, 0.3));\n",
              "      fill: #FFFFFF;\n",
              "    }\n",
              "  </style>\n",
              "\n",
              "      <script>\n",
              "        const buttonEl =\n",
              "          document.querySelector('#df-362d7c47-0ae6-40b8-92a9-5a4d673758fc button.colab-df-convert');\n",
              "        buttonEl.style.display =\n",
              "          google.colab.kernel.accessAllowed ? 'block' : 'none';\n",
              "\n",
              "        async function convertToInteractive(key) {\n",
              "          const element = document.querySelector('#df-362d7c47-0ae6-40b8-92a9-5a4d673758fc');\n",
              "          const dataTable =\n",
              "            await google.colab.kernel.invokeFunction('convertToInteractive',\n",
              "                                                     [key], {});\n",
              "          if (!dataTable) return;\n",
              "\n",
              "          const docLinkHtml = 'Like what you see? Visit the ' +\n",
              "            '<a target=\"_blank\" href=https://colab.research.google.com/notebooks/data_table.ipynb>data table notebook</a>'\n",
              "            + ' to learn more about interactive tables.';\n",
              "          element.innerHTML = '';\n",
              "          dataTable['output_type'] = 'display_data';\n",
              "          await google.colab.output.renderOutput(dataTable, element);\n",
              "          const docLink = document.createElement('div');\n",
              "          docLink.innerHTML = docLinkHtml;\n",
              "          element.appendChild(docLink);\n",
              "        }\n",
              "      </script>\n",
              "    </div>\n",
              "  </div>\n",
              "  "
            ]
          },
          "metadata": {},
          "execution_count": 14
        }
      ]
    },
    {
      "cell_type": "markdown",
      "source": [
        "### B2: LM-based Baseline\n"
      ],
      "metadata": {
        "id": "lzT9rLA3dAMl"
      }
    },
    {
      "cell_type": "markdown",
      "source": [
        "Use a word-based statistical language model to replace any unknown system-transcribed words. "
      ],
      "metadata": {
        "id": "gFLZhPaLdGJ-"
      }
    },
    {
      "cell_type": "code",
      "source": [
        "# LMing -based baseline\n",
        "!git clone https://github.com/ipavlopoulos/lm.git\n",
        "from lm.markov.models import LM\n",
        "wlm = LM(gram=\"WORD\").train(tokens)\n",
        "wlm.generate_text()"
      ],
      "metadata": {
        "colab": {
          "base_uri": "https://localhost:8080/",
          "height": 110
        },
        "id": "bw2UlNKfdH4b",
        "outputId": "e0241b0e-4861-4b3b-b3db-b53318e0d37f"
      },
      "execution_count": 15,
      "outputs": [
        {
          "output_type": "stream",
          "name": "stdout",
          "text": [
            "fatal: destination path 'lm' already exists and is not an empty directory.\n"
          ]
        },
        {
          "output_type": "execute_result",
          "data": {
            "text/plain": [
              "'ἐγγινομένα πάθη μὴ σβεννύντες ἀλλὰ τῆ εκλύσει τοῦ βίου τοῦ καθ ΄ εαυτοὺς πολλὰ γίνεσθαι συγχωροῦν τες ἐμπυρίζουσι τὸν ἀμπελῶνα ἀλλὰ καὶ ὁ διὰ τῆς ἡδεῖας πλεονεξίας πολλοὺς εἰς τὴν τῶν ἀλλ οτρίων ἐπιθυμίαν προκαλούμενος ἐμπυρί ζει τὸν ἀμπελῶνα επισυνάπτει γοῦν τό καὶ ἡ ἀρπα γὴ τοῦ πτωχοῦ ἐν τοῖς οἴκοις ὑμῶν ἐὰν τὰ εἰς λόγον τῆς ἀναπαύσεως τῶν πενήτων διδόμενα ἐν τοῖς οἴκοις ἔχωμεν ἀποστεροῦντες τοὺς ἐνδεεῖς τι υμεις αδικειτε τον λαο μου και το προσωπον των πτωχων καταισχυνετε εθος τοις αδικουσι και αποστερουσιν επειδαν εγκαλωνται παρα των ηδικημενων υβρεσι και λοι δοριαις καταισχυνειν αυτους εξευτελιζοντες και πληγας απειλουντες και ως φιλοπραγμονας δια βαλλλοντες ου μονον ουν φησιν αδικειτε τον πενητα ευδιαρπαστον οντα και ευεπιβουλευτον δια την ερημιαν αλλα και καταισχυνετε τα προσωπα των πτωχων την υμιν προσηκουσαν εκ της α δικιας αισχυνην ταυτην εκ της τυραννιδος υμων τοις πτωχοις περιτρεπετε μαρτυρας αναπειθο ντες συνηγορους μισθουμενοι τους δικαζοντας παραπειθοντες εως αν προς τη λοιπη αδικια και την εκ της συκοφαντιας αισχινην τοις πενησι περιστησετε γινεται δε και αλλως ημετερον το εγκλημα οταν εν τοις ομοιοις πταισμασι των μεν πενητων σφοδρως καθαπτωμεθα δημοσιευον τες μεν αυτων τα πταισματα και μηδενος ονειδους φειδομενοι ενεπιδεικνυμενοι δε τον του θυ ζηλον τοις πενησι και εκ τουτου τα προσωπα αυτων καταισχυνοντες επει δε εισι τινες πτωχοι μακαριζομενοι οι δια την θεοσεβειαν παντων καταφρονησαντες και επ ελπιδι του κατά θεον πλουτου της κοσμικης περιουσιας υπεριδον τες οι προεστωτες του λαου αντι του μακαριζειν τους ουτω πτωχευοντας διαβαλλον τες και εξουθενουντες και την επαινετην αυτων ταπεινοφροσυνην εξευτελιζοντες εικοτως εγκαλουνται μαλιστα εάν πρεσβυτεροι ωσιν η αρ χοντες ως τα προσωπα των αγιων πτωχων καται σχυνοντες οποιος ην πτωχος ιωαννης μη οικον εχων μη οικετην μη βουν αροτηρα μη γηδιον μη κλινην μη τραπεζαν μη αρτον οποιος ηλιας οποιος των αγιων εκαστος οι περιηλθον εν μηλωταις εν αιγειοις δερμα σιν υστερουμενοι θλιβομενοι κακουχουμενοι ανθ ων υψωθησαν αι θυγατερες σιων και ε πορευθησαν υψηλω τραχηλω και εν νευμασιν οφθαλμων γυναικος πορνειας πνεουσης το κατηγορη μα περιεργα βλεπειν τω οφθαλμω την α σελγειαν της ψυχης καταμηνυειν τω βλεμματι εμμειδιαν τοις οφθαλμοις ερεθιζειν πορ νικως ιον τινα φθαρτικον εξαποστελλειν τοις ομμασιν οποιον δη τι και ο περι του βασιλισ κου κατεχει λογος ον φασι και εκ μονης της οψε ως διαφθειρειν τους θεαθεντας δικαιως ουν αγανακτει ο λογος κατά των πορευομενων υψηλω τραχηλω τουτεστιν απερυθριασμενω προσωπω και εν νευμασιν οφθαλμων το δε υ ψηλον του τραχηλου δειγμα του μηδε τω ζυγω της σωφροσυνης υποκεισθαι αβρυνομενης δε και χλιδωσης τον χιτωνα επισυρομενην βαδι ζειν και το βαδισμα μη κατά φυσιν ποιεισθαι αλλα προς ρυθμον εκμελη επιτετηδευμενον εκλυτως αντι ουν τουτων ταπειωσει ο θς αρχουσας θυγατερας σιων επειδη εκουσιως το ταπεινον ουχ ειλαντο αλλ επορευθησαν υψηλω τραχηλω ταπεινωσει φησι τας αρχηγους αυτ τας θυγατερας σιων ετι και μοι εξεστιν οραν πολ λαχου τας ιουδαιας των εκαστου ποσιν επιπαι ζουσας και μη εντρεπομενας την του προφη του φωνην ειθε δε μη και της εκκλησιας αι θυγατερες τα αυτά εγκαλοιντο πολλαι γαρ ως εν πληθει των προσιοντων τω θειω λογω εν ταις ημεραις των εορτων ουκ ειδεναι ευφροσυνην πνικην παιδιαις αεμνοις εαυτας επιδιδουσαι κωμοις και μεσθαις ευκαλινδουνται και μη τη ρουσαι το παραγγελμα το λεγων ότι οι οφθαλμοι σου ορθα βλεπετωσαν υπολοφουσαι το ομμα και παρεγκλινουσαι δειγμα πονηρας εκφερουσι προ αιρεσεως πολλαχου δε τα νευματα των οφθαλ μων διαβεβληται ως εν παροικιαις επι του κα κου παρατετηρηται ότι οδε αυτος εννευει μεν οφθαλμω σημαινει δε ποδι και παλιν ο εννευων οφθαλμω μετα δολου συναγει ανδρασι λυπ και το οι μισουντες με ρε ν και διανευοντες οφθαλμοις φθανει δε ποτε και επ ανδρ Τα τοιαυτα εγκληματα τους φρονηματι μεν α λαζονικω υπερφρονουντας των υποδεεστερων υπιαζοντας δε τω σχηματι και τω νευματι των οφρυων την αλαζονειαν ενδεικνυμενους σοβαρω δε και διηρμενω βαδισματι ενρυθμα βαινοντας το ιμαντιον καθιεντας μεχρι των σφυρων αλαζονειαν ενδεικνυμενους και παιδι αις αμετροις εαυτους εκδεδωκοτας ους με νει το απειληθεν πτωμα το δι αυτης ταπεινω σεως της από του υψους και κς ανακαλυψει το σχημα αυτων τουτο το σχημα το υπερηφανον και πεποιη μενον προσεκλισεν και πασαν ακολαστον εν νοιαν ταις καρδιαις των αφυλακτων εν εργαζο μενον ανακαλυψει κς όταν εν τη φανερωσει των κρυπτων τα μεν της σαρκος παραπετα σματα περιαιρεθη γυμνη δε και καθ εαυτην μετ αυτων εργων της ασχυμοσυνης παραδειγματι ζηται η ψυχη ενεργειται δε ποτε και ενταυθα η αποκαλυψις του σχηματος επι καλω των πε ρι ους η ενεργεια ώστε γυμνωθεντων αι τεως πολλοις διαλανθανει και εις γνωσιν τοις πολλοις ελθουσης της επι τοις αμαρτημασι ασχημοσυνης επιτρεψαι καταδεθεντας τους τεως δια το λανθανειν επιμενοντας τω κακω του κυ ουν εργον ανακαλυψαι το σχημα το επι πλαστον και κατεσχηματισμενον ώστε και ει τινες ημων των τιμωμενων προσχη ματι βιον ασεμνον υποκρυπτουσι φοβηθη τωσαν τον ανακαλυπτει ημων το σχημα μ Λοντα και φανερουντα τας βουλας των καρδι ων ημων ώστε εν ταις παντων προκεισθαι οψεσι τους εν εκαστω γινομενους χειρονας λογισμους κυκλωσει γαρ εκαστον ημων τα διαβουμα αυτου και αι πραξεις εν τοις ιδιοις γνωρισμασι περι στησονται αισχυνην και ον ειδισμον αλωνι ον ημιν επαρισαι όταν ελεγχονται εναντιως εχουσαι προς τον λογον ώστε τον κηριοσοντα μη κλεπτειν κλωπα εφευρισκεσθαι τον λεγον τα μη μοιχευειν εν τοις μοιχοις εχοντα την με ριδα φωρασθαι τον βδελιασομενον τα ει δωλα ιεροσυλιας τουτον μη απεχομενον ουδεν γαρ κρυπτον ο ου φανερωθησεται ουδε κατακε καλυμμενον ο ουκ αποκαλυφθησεται εν τη ημερα εκεινη αφελει κς την δοξαν του ιματισμου αυτων και τον κοσμον αυτων επειδη παρα το πρεπον εχρησαντο τοις δε δομενοις εις χρησιν αφελει κς την δοξαν του ιματισμου εάν α ναξιως αυτω κεχρημενοι φανωμεν καταπα τουντες αυτόν και των σαρκινων νομισματ Αν απιμπλαντες τις δε εστιν ουτος ο ιματισμο ητο ενδυματων αγιων ο κς και ημων ις χς οσοι γαρ εις χν εβαπτισθητε χν ενεδισασθε ον αφαι κς από των δια του αμαρτανειν το σωμα κα ταπατουντων και το αιμα της διαθηκης κοι νον ηγουμενων τουτου του ιματισμου συμβολα ην τα ιματια του ιηλ τα μη κατατριβεντα καθως γεγραπται εν δευτερονομιων ότι τα ιμα τια υμων ου κατετριβη κατά υποδηματα εν τοις ποσιν υμων ουκ επαλαιωθη επει και τα υποδηματα συμβολα ην της ετοιμασιας του ευαγγελιου'"
            ],
            "application/vnd.google.colaboratory.intrinsic+json": {
              "type": "string"
            }
          },
          "metadata": {},
          "execution_count": 15
        }
      ]
    },
    {
      "cell_type": "code",
      "source": [
        "def lamo(input_text, reference_words=WORDS, lm = wlm, max_unk_tokens=2):\n",
        "  \"\"\" Baseline II: LM-based Baseline\n",
        "  Any unknown words in the transcribed text are replaced by word suggested by\n",
        "  a language model trained on the ground truth texts.\n",
        "  :param input_text: the (transcribed) text in question\n",
        "  :param reference_words: the reference vocabulary\n",
        "  :param lm: a word-based statistical language model\n",
        "  :param max_unk_tokens: the max number of unkown words in the text \n",
        "  :return: the new text\n",
        "  \"\"\"\n",
        "  tokens = input_text.split()\n",
        "  # Unknown transcribed tokens; proceed only if few\n",
        "  unknowns = [i for i, w in enumerate(tokens) if w not in reference_words]\n",
        "  if len(unknowns) > max_unk_tokens:\n",
        "    return \" \".join(tokens)\n",
        "  for ind in unknowns:\n",
        "    # Replace each uknown token with the ground truth token w/min edit distance \n",
        "    new_word = wlm.generate_next_gram(tokens[:ind-1])\n",
        "    tokens[ind] = new_word\n",
        "  return \" \".join(tokens)"
      ],
      "metadata": {
        "id": "BASJwPpgdNn_"
      },
      "execution_count": 16,
      "outputs": []
    },
    {
      "cell_type": "code",
      "source": [
        "# computing the B2 \n",
        "train_df[\"B2\"] = train_df.SYSTEM_TRANSCRIPTION.apply(lamo)"
      ],
      "metadata": {
        "id": "jS5Ojvx2dN4g"
      },
      "execution_count": 17,
      "outputs": []
    },
    {
      "cell_type": "code",
      "source": [
        "# computing the B2 CER\n",
        "train_df[\"B2_CER\"] = train_df.apply(lambda row: pywer.cer([row.HUMAN_TRANSCRIPTION], [row.B2]), axis=1)\n",
        "print(\"B2's CER:\", train_df.B2_CER.mean())\n",
        "# computing B2's CERR\n",
        "print((train_df.CER - train_df.B2_CER).mean())"
      ],
      "metadata": {
        "colab": {
          "base_uri": "https://localhost:8080/"
        },
        "id": "3lvDykujdOJg",
        "outputId": "ce7b6b10-7919-4425-ea00-e30ff6958fc3"
      },
      "execution_count": 18,
      "outputs": [
        {
          "output_type": "stream",
          "name": "stdout",
          "text": [
            "B2's CER: 40.79369804149079\n",
            "-6.5386230641982035\n"
          ]
        }
      ]
    },
    {
      "cell_type": "code",
      "source": [
        "# Use B2 to predict for the test\n",
        "test_df[\"B2\"] = test_df.SYSTEM_TRANSCRIPTION.apply(lamo)\n",
        "test_df.sample()"
      ],
      "metadata": {
        "id": "y_PspmMBdT9o",
        "colab": {
          "base_uri": "https://localhost:8080/",
          "height": 81
        },
        "outputId": "36a45b3b-a2c9-486c-8620-2a906aa689ac"
      },
      "execution_count": 19,
      "outputs": [
        {
          "output_type": "execute_result",
          "data": {
            "text/plain": [
              "                      SYSTEM_TRANSCRIPTION  CENTURY  \\\n",
              "321  εαπειν πασης ουσίας κιίςδυναμεω  ἐνερ       15   \n",
              "\n",
              "                                           IMAGE_PATH  TEXT_LINE_NUM  \\\n",
              "321  15th Bodleian-Library-MS-Barocci-59_00006_fol-7v             14   \n",
              "\n",
              "                                       B1  \\\n",
              "321  εαπειν πασης ουσίας κιίςδυναμεω ἐνερ   \n",
              "\n",
              "                                       B2  \n",
              "321  εαπειν πασης ουσίας κιίςδυναμεω ἐνερ  "
            ],
            "text/html": [
              "\n",
              "  <div id=\"df-173e61f1-61cc-4b81-87a3-d907cb809714\">\n",
              "    <div class=\"colab-df-container\">\n",
              "      <div>\n",
              "<style scoped>\n",
              "    .dataframe tbody tr th:only-of-type {\n",
              "        vertical-align: middle;\n",
              "    }\n",
              "\n",
              "    .dataframe tbody tr th {\n",
              "        vertical-align: top;\n",
              "    }\n",
              "\n",
              "    .dataframe thead th {\n",
              "        text-align: right;\n",
              "    }\n",
              "</style>\n",
              "<table border=\"1\" class=\"dataframe\">\n",
              "  <thead>\n",
              "    <tr style=\"text-align: right;\">\n",
              "      <th></th>\n",
              "      <th>SYSTEM_TRANSCRIPTION</th>\n",
              "      <th>CENTURY</th>\n",
              "      <th>IMAGE_PATH</th>\n",
              "      <th>TEXT_LINE_NUM</th>\n",
              "      <th>B1</th>\n",
              "      <th>B2</th>\n",
              "    </tr>\n",
              "  </thead>\n",
              "  <tbody>\n",
              "    <tr>\n",
              "      <th>321</th>\n",
              "      <td>εαπειν πασης ουσίας κιίςδυναμεω  ἐνερ</td>\n",
              "      <td>15</td>\n",
              "      <td>15th Bodleian-Library-MS-Barocci-59_00006_fol-7v</td>\n",
              "      <td>14</td>\n",
              "      <td>εαπειν πασης ουσίας κιίςδυναμεω ἐνερ</td>\n",
              "      <td>εαπειν πασης ουσίας κιίςδυναμεω ἐνερ</td>\n",
              "    </tr>\n",
              "  </tbody>\n",
              "</table>\n",
              "</div>\n",
              "      <button class=\"colab-df-convert\" onclick=\"convertToInteractive('df-173e61f1-61cc-4b81-87a3-d907cb809714')\"\n",
              "              title=\"Convert this dataframe to an interactive table.\"\n",
              "              style=\"display:none;\">\n",
              "        \n",
              "  <svg xmlns=\"http://www.w3.org/2000/svg\" height=\"24px\"viewBox=\"0 0 24 24\"\n",
              "       width=\"24px\">\n",
              "    <path d=\"M0 0h24v24H0V0z\" fill=\"none\"/>\n",
              "    <path d=\"M18.56 5.44l.94 2.06.94-2.06 2.06-.94-2.06-.94-.94-2.06-.94 2.06-2.06.94zm-11 1L8.5 8.5l.94-2.06 2.06-.94-2.06-.94L8.5 2.5l-.94 2.06-2.06.94zm10 10l.94 2.06.94-2.06 2.06-.94-2.06-.94-.94-2.06-.94 2.06-2.06.94z\"/><path d=\"M17.41 7.96l-1.37-1.37c-.4-.4-.92-.59-1.43-.59-.52 0-1.04.2-1.43.59L10.3 9.45l-7.72 7.72c-.78.78-.78 2.05 0 2.83L4 21.41c.39.39.9.59 1.41.59.51 0 1.02-.2 1.41-.59l7.78-7.78 2.81-2.81c.8-.78.8-2.07 0-2.86zM5.41 20L4 18.59l7.72-7.72 1.47 1.35L5.41 20z\"/>\n",
              "  </svg>\n",
              "      </button>\n",
              "      \n",
              "  <style>\n",
              "    .colab-df-container {\n",
              "      display:flex;\n",
              "      flex-wrap:wrap;\n",
              "      gap: 12px;\n",
              "    }\n",
              "\n",
              "    .colab-df-convert {\n",
              "      background-color: #E8F0FE;\n",
              "      border: none;\n",
              "      border-radius: 50%;\n",
              "      cursor: pointer;\n",
              "      display: none;\n",
              "      fill: #1967D2;\n",
              "      height: 32px;\n",
              "      padding: 0 0 0 0;\n",
              "      width: 32px;\n",
              "    }\n",
              "\n",
              "    .colab-df-convert:hover {\n",
              "      background-color: #E2EBFA;\n",
              "      box-shadow: 0px 1px 2px rgba(60, 64, 67, 0.3), 0px 1px 3px 1px rgba(60, 64, 67, 0.15);\n",
              "      fill: #174EA6;\n",
              "    }\n",
              "\n",
              "    [theme=dark] .colab-df-convert {\n",
              "      background-color: #3B4455;\n",
              "      fill: #D2E3FC;\n",
              "    }\n",
              "\n",
              "    [theme=dark] .colab-df-convert:hover {\n",
              "      background-color: #434B5C;\n",
              "      box-shadow: 0px 1px 3px 1px rgba(0, 0, 0, 0.15);\n",
              "      filter: drop-shadow(0px 1px 2px rgba(0, 0, 0, 0.3));\n",
              "      fill: #FFFFFF;\n",
              "    }\n",
              "  </style>\n",
              "\n",
              "      <script>\n",
              "        const buttonEl =\n",
              "          document.querySelector('#df-173e61f1-61cc-4b81-87a3-d907cb809714 button.colab-df-convert');\n",
              "        buttonEl.style.display =\n",
              "          google.colab.kernel.accessAllowed ? 'block' : 'none';\n",
              "\n",
              "        async function convertToInteractive(key) {\n",
              "          const element = document.querySelector('#df-173e61f1-61cc-4b81-87a3-d907cb809714');\n",
              "          const dataTable =\n",
              "            await google.colab.kernel.invokeFunction('convertToInteractive',\n",
              "                                                     [key], {});\n",
              "          if (!dataTable) return;\n",
              "\n",
              "          const docLinkHtml = 'Like what you see? Visit the ' +\n",
              "            '<a target=\"_blank\" href=https://colab.research.google.com/notebooks/data_table.ipynb>data table notebook</a>'\n",
              "            + ' to learn more about interactive tables.';\n",
              "          element.innerHTML = '';\n",
              "          dataTable['output_type'] = 'display_data';\n",
              "          await google.colab.output.renderOutput(dataTable, element);\n",
              "          const docLink = document.createElement('div');\n",
              "          docLink.innerHTML = docLinkHtml;\n",
              "          element.appendChild(docLink);\n",
              "        }\n",
              "      </script>\n",
              "    </div>\n",
              "  </div>\n",
              "  "
            ]
          },
          "metadata": {},
          "execution_count": 19
        }
      ]
    },
    {
      "cell_type": "markdown",
      "source": [
        "### B3: LMing\n",
        "\n",
        "LMing-Rules baseline\n",
        "* Using language modeling.\n",
        "* Using rules, extracted from the training data.\n",
        "\n",
        "Using the human-transcribed data to train a statistical character language model."
      ],
      "metadata": {
        "id": "xXFRs-9D0qWQ"
      }
    },
    {
      "cell_type": "code",
      "source": [
        "!git clone https://github.com/ipavlopoulos/lm.git\n",
        "from lm.markov.models import LM\n",
        "lm = LM(gram=\"CHAR\").train(train_df.HUMAN_TRANSCRIPTION.sum()); #cslm.generate_text()\n",
        "lm.generate_text()"
      ],
      "metadata": {
        "colab": {
          "base_uri": "https://localhost:8080/",
          "height": 110
        },
        "id": "oEmv-IVzzNZy",
        "outputId": "e4aab3cf-bba2-4456-fb87-85f1f12b93ce"
      },
      "execution_count": 20,
      "outputs": [
        {
          "output_type": "stream",
          "name": "stdout",
          "text": [
            "fatal: destination path 'lm' already exists and is not an empty directory.\n"
          ]
        },
        {
          "output_type": "execute_result",
          "data": {
            "text/plain": [
              "'ἐγγινομενον κοσμησιν,οὐνόν διά πράσσου ορωμεν ἐκείνου και ινα οψεσιτους ἀπωσάμενοι οφθαλμοὺςἔχοντες καλλιάσομαι φανερωθησομένη καταβαινέτω καθαρεύειν· ἵνααὐτὸν δὲ θανοῦς· ἡ δέ τῆς φρέατα, τὼ νεφρὼ δέ μοιχαταισιν χαίρε το φως ημεις επειδανεγκεν εκαστω αυτόκαλονσοι συγκατιουσαλὴμ, κρέας ἐλπὶς ἥ σ᾽ ἐσεῖδον; εἴργασωνται,ἢ προφητης διαφθείρῃς, τὴν γέενναν ετεροςδημιουργηθεν δευτελιζοντα τους σωθηναι εδεικνυμεν και το τη περιγραφη λόγος·ιδουσι τοίνυν ὁ τοῦ, πολλαι φανείη γ᾽ αὔτ᾽ εὐσεβῆ τε πατρῴαν αυτας αὐτὸ μὲν ἤδη προφήτης κοσμου τήν ἀξιούμεθ᾽ ἥκοντ᾽ ἰδεῖν δοξαν αιγειν. Ἐπειδὴ ληματα Τῇ γὰρ ἐν τοῦΔαβὶδ γαμηθη υγεια γραφη λεξει εχρημένοι και τη ελλην επαριστον περιαυταλειψει αυτων και ἀπὸ πρᾶγμα; ἀλλὰ δείξει μου. Ἱκετεύειν ο θς αρχης σωφροσυνης λεγω καὶ Συρίαπάσχουσιν υποδημασιν ὁ τοῦ λόγος ειπεν αὐτοὺς ὑπέρἡμῶν.Ταῦτα ὑπομενοιτην γνῶσιν φράσαι τ αλλα κινουμεν αὐτῶν, καὶ ψεύδους θείῳ τοὺς πόλιν, καί τοις ὄνοματικῶς ἀπειλάς; οὐ κοιλάδατῶνἄδυτον ου μνηστευομεν σαυτη ακολουθῶν τὸν Ἱπποκίνου ημιν'"
            ],
            "application/vnd.google.colaboratory.intrinsic+json": {
              "type": "string"
            }
          },
          "metadata": {},
          "execution_count": 20
        }
      ]
    },
    {
      "cell_type": "markdown",
      "source": [
        "#### Frequently mistaken tokens "
      ],
      "metadata": {
        "id": "5XQOWKJd05Bb"
      }
    },
    {
      "cell_type": "code",
      "source": [
        "LEX = train_df.HUMAN_TRANSCRIPTION.sum().split()"
      ],
      "metadata": {
        "id": "If3t5uimyxC2"
      },
      "execution_count": 21,
      "outputs": []
    },
    {
      "cell_type": "code",
      "source": [
        "from collections import Counter\n",
        "broken_words = [w for w in train_df.SYSTEM_TRANSCRIPTION.sum().split() if w not in set(LEX)]\n",
        "x,y = zip(*Counter(broken_words).most_common(10))\n",
        "pd.DataFrame({\"mistaken\":x, \"occurrences\":y}).plot.barh(x=\"mistaken\");"
      ],
      "metadata": {
        "id": "PM10_hyqzfaI",
        "colab": {
          "base_uri": "https://localhost:8080/",
          "height": 265
        },
        "outputId": "986525dd-4a92-420e-ea7b-2f5094cc7c2f"
      },
      "execution_count": 22,
      "outputs": [
        {
          "output_type": "display_data",
          "data": {
            "text/plain": [
              "<Figure size 432x288 with 1 Axes>"
            ],
            "image/png": "[encoded data removed]"
          },
          "metadata": {
            "needs_background": "light"
          }
        }
      ]
    },
    {
      "cell_type": "markdown",
      "source": [
        "Picking one, one that can be fixed without much ambiguity."
      ],
      "metadata": {
        "id": "9BZXDA3q0_vz"
      }
    },
    {
      "cell_type": "code",
      "source": [
        "train_df[train_df.SYSTEM_TRANSCRIPTION.str.contains(\" ς \")].sample(2)"
      ],
      "metadata": {
        "id": "ctgq1BbQznvG",
        "colab": {
          "base_uri": "https://localhost:8080/",
          "height": 191
        },
        "outputId": "f42ddeef-6880-42a1-a2b5-b2c5704ebd6f"
      },
      "execution_count": 23,
      "outputs": [
        {
          "output_type": "execute_result",
          "data": {
            "text/plain": [
              "                                    HUMAN_TRANSCRIPTION  \\\n",
              "928   τούτοις αὐδῶ καὖθις ἐπαυδῶ καὖθις τὸ τρίτον μά...   \n",
              "1178               τοῦ Θῦ γίνεται Λόγος, ὡς ζωή νεκροῖς   \n",
              "\n",
              "                               SYSTEM_TRANSCRIPTION  CENTURY  \\\n",
              "928   κεπτουδτοι ς α παυδυ καυθις επαυ κανε τριμαλα       14   \n",
              "1178                 τοῦ δυσιν εσαιλόγος ς ξωην ἐκρ       15   \n",
              "\n",
              "                                             IMAGE_PATH  TEXT_LINE_NUM  \\\n",
              "928   65 Bodleian-Library-MS-Barocci-127_00135_fol-6...              1   \n",
              "1178  78 Bodleian-Library-MS-Barocci-59_00083_fol-46...              8   \n",
              "\n",
              "                                                 B1     B1_CER        CER  \\\n",
              "928   κεπτουδτοι ς α παυδυ καυθις επαυ κανε τριμαλα  63.636364  63.636364   \n",
              "1178                 τοῦ δυσιν εσαιλόγος ς ξωην ἐκρ  52.777778  52.777778   \n",
              "\n",
              "                                                 B2     B2_CER  \n",
              "928   κεπτουδτοι ς α παυδυ καυθις επαυ κανε τριμαλα  63.636364  \n",
              "1178                 τοῦ δυσιν εσαιλόγος ς ξωην ἐκρ  52.777778  "
            ],
            "text/html": [
              "\n",
              "  <div id=\"df-29cd53a7-c549-4bdc-955b-fd49b48bb3fa\">\n",
              "    <div class=\"colab-df-container\">\n",
              "      <div>\n",
              "<style scoped>\n",
              "    .dataframe tbody tr th:only-of-type {\n",
              "        vertical-align: middle;\n",
              "    }\n",
              "\n",
              "    .dataframe tbody tr th {\n",
              "        vertical-align: top;\n",
              "    }\n",
              "\n",
              "    .dataframe thead th {\n",
              "        text-align: right;\n",
              "    }\n",
              "</style>\n",
              "<table border=\"1\" class=\"dataframe\">\n",
              "  <thead>\n",
              "    <tr style=\"text-align: right;\">\n",
              "      <th></th>\n",
              "      <th>HUMAN_TRANSCRIPTION</th>\n",
              "      <th>SYSTEM_TRANSCRIPTION</th>\n",
              "      <th>CENTURY</th>\n",
              "      <th>IMAGE_PATH</th>\n",
              "      <th>TEXT_LINE_NUM</th>\n",
              "      <th>B1</th>\n",
              "      <th>B1_CER</th>\n",
              "      <th>CER</th>\n",
              "      <th>B2</th>\n",
              "      <th>B2_CER</th>\n",
              "    </tr>\n",
              "  </thead>\n",
              "  <tbody>\n",
              "    <tr>\n",
              "      <th>928</th>\n",
              "      <td>τούτοις αὐδῶ καὖθις ἐπαυδῶ καὖθις τὸ τρίτον μά...</td>\n",
              "      <td>κεπτουδτοι ς α παυδυ καυθις επαυ κανε τριμαλα</td>\n",
              "      <td>14</td>\n",
              "      <td>65 Bodleian-Library-MS-Barocci-127_00135_fol-6...</td>\n",
              "      <td>1</td>\n",
              "      <td>κεπτουδτοι ς α παυδυ καυθις επαυ κανε τριμαλα</td>\n",
              "      <td>63.636364</td>\n",
              "      <td>63.636364</td>\n",
              "      <td>κεπτουδτοι ς α παυδυ καυθις επαυ κανε τριμαλα</td>\n",
              "      <td>63.636364</td>\n",
              "    </tr>\n",
              "    <tr>\n",
              "      <th>1178</th>\n",
              "      <td>τοῦ Θῦ γίνεται Λόγος, ὡς ζωή νεκροῖς</td>\n",
              "      <td>τοῦ δυσιν εσαιλόγος ς ξωην ἐκρ</td>\n",
              "      <td>15</td>\n",
              "      <td>78 Bodleian-Library-MS-Barocci-59_00083_fol-46...</td>\n",
              "      <td>8</td>\n",
              "      <td>τοῦ δυσιν εσαιλόγος ς ξωην ἐκρ</td>\n",
              "      <td>52.777778</td>\n",
              "      <td>52.777778</td>\n",
              "      <td>τοῦ δυσιν εσαιλόγος ς ξωην ἐκρ</td>\n",
              "      <td>52.777778</td>\n",
              "    </tr>\n",
              "  </tbody>\n",
              "</table>\n",
              "</div>\n",
              "      <button class=\"colab-df-convert\" onclick=\"convertToInteractive('df-29cd53a7-c549-4bdc-955b-fd49b48bb3fa')\"\n",
              "              title=\"Convert this dataframe to an interactive table.\"\n",
              "              style=\"display:none;\">\n",
              "        \n",
              "  <svg xmlns=\"http://www.w3.org/2000/svg\" height=\"24px\"viewBox=\"0 0 24 24\"\n",
              "       width=\"24px\">\n",
              "    <path d=\"M0 0h24v24H0V0z\" fill=\"none\"/>\n",
              "    <path d=\"M18.56 5.44l.94 2.06.94-2.06 2.06-.94-2.06-.94-.94-2.06-.94 2.06-2.06.94zm-11 1L8.5 8.5l.94-2.06 2.06-.94-2.06-.94L8.5 2.5l-.94 2.06-2.06.94zm10 10l.94 2.06.94-2.06 2.06-.94-2.06-.94-.94-2.06-.94 2.06-2.06.94z\"/><path d=\"M17.41 7.96l-1.37-1.37c-.4-.4-.92-.59-1.43-.59-.52 0-1.04.2-1.43.59L10.3 9.45l-7.72 7.72c-.78.78-.78 2.05 0 2.83L4 21.41c.39.39.9.59 1.41.59.51 0 1.02-.2 1.41-.59l7.78-7.78 2.81-2.81c.8-.78.8-2.07 0-2.86zM5.41 20L4 18.59l7.72-7.72 1.47 1.35L5.41 20z\"/>\n",
              "  </svg>\n",
              "      </button>\n",
              "      \n",
              "  <style>\n",
              "    .colab-df-container {\n",
              "      display:flex;\n",
              "      flex-wrap:wrap;\n",
              "      gap: 12px;\n",
              "    }\n",
              "\n",
              "    .colab-df-convert {\n",
              "      background-color: #E8F0FE;\n",
              "      border: none;\n",
              "      border-radius: 50%;\n",
              "      cursor: pointer;\n",
              "      display: none;\n",
              "      fill: #1967D2;\n",
              "      height: 32px;\n",
              "      padding: 0 0 0 0;\n",
              "      width: 32px;\n",
              "    }\n",
              "\n",
              "    .colab-df-convert:hover {\n",
              "      background-color: #E2EBFA;\n",
              "      box-shadow: 0px 1px 2px rgba(60, 64, 67, 0.3), 0px 1px 3px 1px rgba(60, 64, 67, 0.15);\n",
              "      fill: #174EA6;\n",
              "    }\n",
              "\n",
              "    [theme=dark] .colab-df-convert {\n",
              "      background-color: #3B4455;\n",
              "      fill: #D2E3FC;\n",
              "    }\n",
              "\n",
              "    [theme=dark] .colab-df-convert:hover {\n",
              "      background-color: #434B5C;\n",
              "      box-shadow: 0px 1px 3px 1px rgba(0, 0, 0, 0.15);\n",
              "      filter: drop-shadow(0px 1px 2px rgba(0, 0, 0, 0.3));\n",
              "      fill: #FFFFFF;\n",
              "    }\n",
              "  </style>\n",
              "\n",
              "      <script>\n",
              "        const buttonEl =\n",
              "          document.querySelector('#df-29cd53a7-c549-4bdc-955b-fd49b48bb3fa button.colab-df-convert');\n",
              "        buttonEl.style.display =\n",
              "          google.colab.kernel.accessAllowed ? 'block' : 'none';\n",
              "\n",
              "        async function convertToInteractive(key) {\n",
              "          const element = document.querySelector('#df-29cd53a7-c549-4bdc-955b-fd49b48bb3fa');\n",
              "          const dataTable =\n",
              "            await google.colab.kernel.invokeFunction('convertToInteractive',\n",
              "                                                     [key], {});\n",
              "          if (!dataTable) return;\n",
              "\n",
              "          const docLinkHtml = 'Like what you see? Visit the ' +\n",
              "            '<a target=\"_blank\" href=https://colab.research.google.com/notebooks/data_table.ipynb>data table notebook</a>'\n",
              "            + ' to learn more about interactive tables.';\n",
              "          element.innerHTML = '';\n",
              "          dataTable['output_type'] = 'display_data';\n",
              "          await google.colab.output.renderOutput(dataTable, element);\n",
              "          const docLink = document.createElement('div');\n",
              "          docLink.innerHTML = docLinkHtml;\n",
              "          element.appendChild(docLink);\n",
              "        }\n",
              "      </script>\n",
              "    </div>\n",
              "  </div>\n",
              "  "
            ]
          },
          "metadata": {},
          "execution_count": 23
        }
      ]
    },
    {
      "cell_type": "markdown",
      "source": [
        "#### The method\n",
        "Exploring the mistakes, two are the easier fixes: merge with the previous word (i.e., this is a final character, which makes sense) or delete. To pick out of the two, we ask the LM."
      ],
      "metadata": {
        "id": "vY1a542k1IDV"
      }
    },
    {
      "cell_type": "code",
      "source": [
        "def lmr(text, word=\" ς \", replacements=[\"ς \", \" \"], lm=lm):\n",
        "    scores = []\n",
        "    for the_candidate in replacements:\n",
        "        scores.append(lm.cross_entropy(text.replace(word, the_candidate)))\n",
        "    text_out = text.replace(word, replacements[scores.index(min(scores))])\n",
        "    return text_out\n",
        "    \n",
        "lmr(\"ως ω ς αὐτοῦ ον πος τοῦ χυ καιρήε,\")"
      ],
      "metadata": {
        "colab": {
          "base_uri": "https://localhost:8080/",
          "height": 36
        },
        "id": "WjlgZ3aNzvj9",
        "outputId": "1e8d58e3-28de-43f2-af6c-44ef7e0dbb06"
      },
      "execution_count": 24,
      "outputs": [
        {
          "output_type": "execute_result",
          "data": {
            "text/plain": [
              "'ως ως αὐτοῦ ον πος τοῦ χυ καιρήε,'"
            ],
            "application/vnd.google.colaboratory.intrinsic+json": {
              "type": "string"
            }
          },
          "metadata": {},
          "execution_count": 24
        }
      ]
    },
    {
      "cell_type": "code",
      "source": [
        "# computing the B3 \n",
        "train_df[\"B3\"] = train_df.SYSTEM_TRANSCRIPTION.apply(lmr)\n",
        "\n",
        "# computing the B3 \n",
        "test_df[\"B3\"] = test_df.SYSTEM_TRANSCRIPTION.apply(lmr)"
      ],
      "metadata": {
        "id": "J5DWUFFcdzMg"
      },
      "execution_count": 25,
      "outputs": []
    },
    {
      "cell_type": "code",
      "source": [
        "# computing the B3 CER\n",
        "train_df[\"B3_CER\"] = train_df.apply(lambda row: pywer.cer([row.HUMAN_TRANSCRIPTION], [row.B3]), axis=1)\n",
        "print(\"B3's CER:\", train_df.B3_CER.mean())\n",
        "# computing B3's CERR\n",
        "print((train_df.CER - train_df.B3_CER).mean())"
      ],
      "metadata": {
        "id": "0yjgWqM3eJMg",
        "colab": {
          "base_uri": "https://localhost:8080/"
        },
        "outputId": "29d9a833-feb1-41d6-d806-ea89a19d85e7"
      },
      "execution_count": 26,
      "outputs": [
        {
          "output_type": "stream",
          "name": "stdout",
          "text": [
            "B3's CER: 34.244597148838\n",
            "0.01047782845459524\n"
          ]
        }
      ]
    },
    {
      "cell_type": "markdown",
      "source": [
        "# Generating the Prediction File"
      ],
      "metadata": {
        "id": "lNgsHQtxfXKO"
      }
    },
    {
      "cell_type": "code",
      "source": [
        "# using the 1st baseline (B1)\n",
        "submission = pd.DataFrame(zip(test_df.IMAGE_PATH, test_df.B1), columns=[\"ImageID\", \"Transcriptions\"])\n",
        "submission.to_csv('B1_edit_distance.csv',index=False)"
      ],
      "metadata": {
        "id": "QbZheRAceSlO"
      },
      "execution_count": 42,
      "outputs": []
    },
    {
      "cell_type": "code",
      "source": [
        "# using the 2st baseline (B2)\n",
        "submission = pd.DataFrame(zip(test_df.IMAGE_PATH, test_df.B2), columns=[\"ImageID\", \"Transcriptions\"])\n",
        "submission.to_csv('B2_LM_based.csv',index=False)"
      ],
      "metadata": {
        "id": "KVrG7JOL767g"
      },
      "execution_count": 43,
      "outputs": []
    },
    {
      "cell_type": "code",
      "source": [
        "# using the 3st baseline (B3)\n",
        "submission = pd.DataFrame(zip(test_df.IMAGE_PATH, test_df.B3), columns=[\"ImageID\", \"Transcriptions\"])\n",
        "submission.to_csv('B3_LMing.csv',index=False)\n",
        "submission.head()"
      ],
      "metadata": {
        "colab": {
          "base_uri": "https://localhost:8080/",
          "height": 206
        },
        "id": "DyVPdjan8g_o",
        "outputId": "0e4a4817-0299-401c-8a04-188b1abd73a6"
      },
      "execution_count": 44,
      "outputs": [
        {
          "output_type": "execute_result",
          "data": {
            "text/plain": [
              "                                            ImageID  \\\n",
              "0  66 Bodleian-Library-MS-Barocci-127_00136_fol-66v   \n",
              "1  66 Bodleian-Library-MS-Barocci-127_00136_fol-66v   \n",
              "2  66 Bodleian-Library-MS-Barocci-127_00136_fol-66v   \n",
              "3  66 Bodleian-Library-MS-Barocci-127_00136_fol-66v   \n",
              "4  66 Bodleian-Library-MS-Barocci-127_00136_fol-66v   \n",
              "\n",
              "                            Transcriptions  \n",
              "0     ὑπρ τη συνευςδιξοεανδνυπορ ποοδυπρας  \n",
              "1   ἢ μητακχεφιλοχορ εύτα δυ μπρο πρενπεμε  \n",
              "2                συ σ κατεχισωμε ἐπιτελωτι  \n",
              "3    κ ἀπαὐτελετία τὸν δεὲ τὸν σανἀαλισκόν  \n",
              "4  κ τὸρακον καξεύδὡςτα ξήμής παιξτεεχηρευ  "
            ],
            "text/html": [
              "\n",
              "  <div id=\"df-3fdb19c3-38f7-4397-8ac1-48da6f369be6\">\n",
              "    <div class=\"colab-df-container\">\n",
              "      <div>\n",
              "<style scoped>\n",
              "    .dataframe tbody tr th:only-of-type {\n",
              "        vertical-align: middle;\n",
              "    }\n",
              "\n",
              "    .dataframe tbody tr th {\n",
              "        vertical-align: top;\n",
              "    }\n",
              "\n",
              "    .dataframe thead th {\n",
              "        text-align: right;\n",
              "    }\n",
              "</style>\n",
              "<table border=\"1\" class=\"dataframe\">\n",
              "  <thead>\n",
              "    <tr style=\"text-align: right;\">\n",
              "      <th></th>\n",
              "      <th>ImageID</th>\n",
              "      <th>Transcriptions</th>\n",
              "    </tr>\n",
              "  </thead>\n",
              "  <tbody>\n",
              "    <tr>\n",
              "      <th>0</th>\n",
              "      <td>66 Bodleian-Library-MS-Barocci-127_00136_fol-66v</td>\n",
              "      <td>ὑπρ τη συνευςδιξοεανδνυπορ ποοδυπρας</td>\n",
              "    </tr>\n",
              "    <tr>\n",
              "      <th>1</th>\n",
              "      <td>66 Bodleian-Library-MS-Barocci-127_00136_fol-66v</td>\n",
              "      <td>ἢ μητακχεφιλοχορ εύτα δυ μπρο πρενπεμε</td>\n",
              "    </tr>\n",
              "    <tr>\n",
              "      <th>2</th>\n",
              "      <td>66 Bodleian-Library-MS-Barocci-127_00136_fol-66v</td>\n",
              "      <td>συ σ κατεχισωμε ἐπιτελωτι</td>\n",
              "    </tr>\n",
              "    <tr>\n",
              "      <th>3</th>\n",
              "      <td>66 Bodleian-Library-MS-Barocci-127_00136_fol-66v</td>\n",
              "      <td>κ ἀπαὐτελετία τὸν δεὲ τὸν σανἀαλισκόν</td>\n",
              "    </tr>\n",
              "    <tr>\n",
              "      <th>4</th>\n",
              "      <td>66 Bodleian-Library-MS-Barocci-127_00136_fol-66v</td>\n",
              "      <td>κ τὸρακον καξεύδὡςτα ξήμής παιξτεεχηρευ</td>\n",
              "    </tr>\n",
              "  </tbody>\n",
              "</table>\n",
              "</div>\n",
              "      <button class=\"colab-df-convert\" onclick=\"convertToInteractive('df-3fdb19c3-38f7-4397-8ac1-48da6f369be6')\"\n",
              "              title=\"Convert this dataframe to an interactive table.\"\n",
              "              style=\"display:none;\">\n",
              "        \n",
              "  <svg xmlns=\"http://www.w3.org/2000/svg\" height=\"24px\"viewBox=\"0 0 24 24\"\n",
              "       width=\"24px\">\n",
              "    <path d=\"M0 0h24v24H0V0z\" fill=\"none\"/>\n",
              "    <path d=\"M18.56 5.44l.94 2.06.94-2.06 2.06-.94-2.06-.94-.94-2.06-.94 2.06-2.06.94zm-11 1L8.5 8.5l.94-2.06 2.06-.94-2.06-.94L8.5 2.5l-.94 2.06-2.06.94zm10 10l.94 2.06.94-2.06 2.06-.94-2.06-.94-.94-2.06-.94 2.06-2.06.94z\"/><path d=\"M17.41 7.96l-1.37-1.37c-.4-.4-.92-.59-1.43-.59-.52 0-1.04.2-1.43.59L10.3 9.45l-7.72 7.72c-.78.78-.78 2.05 0 2.83L4 21.41c.39.39.9.59 1.41.59.51 0 1.02-.2 1.41-.59l7.78-7.78 2.81-2.81c.8-.78.8-2.07 0-2.86zM5.41 20L4 18.59l7.72-7.72 1.47 1.35L5.41 20z\"/>\n",
              "  </svg>\n",
              "      </button>\n",
              "      \n",
              "  <style>\n",
              "    .colab-df-container {\n",
              "      display:flex;\n",
              "      flex-wrap:wrap;\n",
              "      gap: 12px;\n",
              "    }\n",
              "\n",
              "    .colab-df-convert {\n",
              "      background-color: #E8F0FE;\n",
              "      border: none;\n",
              "      border-radius: 50%;\n",
              "      cursor: pointer;\n",
              "      display: none;\n",
              "      fill: #1967D2;\n",
              "      height: 32px;\n",
              "      padding: 0 0 0 0;\n",
              "      width: 32px;\n",
              "    }\n",
              "\n",
              "    .colab-df-convert:hover {\n",
              "      background-color: #E2EBFA;\n",
              "      box-shadow: 0px 1px 2px rgba(60, 64, 67, 0.3), 0px 1px 3px 1px rgba(60, 64, 67, 0.15);\n",
              "      fill: #174EA6;\n",
              "    }\n",
              "\n",
              "    [theme=dark] .colab-df-convert {\n",
              "      background-color: #3B4455;\n",
              "      fill: #D2E3FC;\n",
              "    }\n",
              "\n",
              "    [theme=dark] .colab-df-convert:hover {\n",
              "      background-color: #434B5C;\n",
              "      box-shadow: 0px 1px 3px 1px rgba(0, 0, 0, 0.15);\n",
              "      filter: drop-shadow(0px 1px 2px rgba(0, 0, 0, 0.3));\n",
              "      fill: #FFFFFF;\n",
              "    }\n",
              "  </style>\n",
              "\n",
              "      <script>\n",
              "        const buttonEl =\n",
              "          document.querySelector('#df-3fdb19c3-38f7-4397-8ac1-48da6f369be6 button.colab-df-convert');\n",
              "        buttonEl.style.display =\n",
              "          google.colab.kernel.accessAllowed ? 'block' : 'none';\n",
              "\n",
              "        async function convertToInteractive(key) {\n",
              "          const element = document.querySelector('#df-3fdb19c3-38f7-4397-8ac1-48da6f369be6');\n",
              "          const dataTable =\n",
              "            await google.colab.kernel.invokeFunction('convertToInteractive',\n",
              "                                                     [key], {});\n",
              "          if (!dataTable) return;\n",
              "\n",
              "          const docLinkHtml = 'Like what you see? Visit the ' +\n",
              "            '<a target=\"_blank\" href=https://colab.research.google.com/notebooks/data_table.ipynb>data table notebook</a>'\n",
              "            + ' to learn more about interactive tables.';\n",
              "          element.innerHTML = '';\n",
              "          dataTable['output_type'] = 'display_data';\n",
              "          await google.colab.output.renderOutput(dataTable, element);\n",
              "          const docLink = document.createElement('div');\n",
              "          docLink.innerHTML = docLinkHtml;\n",
              "          element.appendChild(docLink);\n",
              "        }\n",
              "      </script>\n",
              "    </div>\n",
              "  </div>\n",
              "  "
            ]
          },
          "metadata": {},
          "execution_count": 44
        }
      ]
    },
    {
      "cell_type": "code",
      "source": [
        "submission.to_csv(\"submission.csv\", index=False)"
      ],
      "metadata": {
        "id": "sEDADaC5eSh_"
      },
      "execution_count": 29,
      "outputs": []
    },
    {
      "cell_type": "code",
      "source": [
        "# %aicrowd submission create -c htrec-2022 -f submission.csv"
      ],
      "metadata": {
        "id": "n3cbzndHeSeO"
      },
      "execution_count": null,
      "outputs": []
    }
  ]
}